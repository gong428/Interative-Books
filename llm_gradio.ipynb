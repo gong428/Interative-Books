{
 "cells": [
  {
   "cell_type": "markdown",
   "metadata": {},
   "source": [
    "## llm 설정"
   ]
  },
  {
   "cell_type": "code",
   "execution_count": null,
   "metadata": {},
   "outputs": [],
   "source": [
    "from langchain_community.chat_models import ChatOllama\n",
    "from langchain.chat_models import ChatOpenAI\n",
    "from dotenv import load_dotenv,find_dotenv\n",
    "\n",
    "load_dotenv()"
   ]
  },
  {
   "cell_type": "markdown",
   "metadata": {},
   "source": [
    "### 1. 시스템 프롬프트 작성"
   ]
  },
  {
   "cell_type": "code",
   "execution_count": null,
   "metadata": {},
   "outputs": [],
   "source": [
    "llm_model = ChatOllama(model='llama3.1:latest')\n",
    "gpt_model = ChatOpenAI(model_name=\"gpt-4\")"
   ]
  },
  {
   "cell_type": "markdown",
   "metadata": {},
   "source": [
    "### 2. 텍스트 벡터화 임베딩"
   ]
  },
  {
   "cell_type": "markdown",
   "metadata": {},
   "source": [
    "### 챗봇 ui"
   ]
  },
  {
   "cell_type": "code",
   "execution_count": 1,
   "metadata": {},
   "outputs": [
    {
     "name": "stdout",
     "output_type": "stream",
     "text": [
      "Running on local URL:  http://127.0.0.1:7863\n",
      "IMPORTANT: You are using gradio version 3.48.0, however version 4.29.0 is available, please upgrade.\n",
      "--------\n",
      "\n",
      "To create a public link, set `share=True` in `launch()`.\n"
     ]
    },
    {
     "data": {
      "text/html": [
       "<div><iframe src=\"http://127.0.0.1:7863/\" width=\"100%\" height=\"500\" allow=\"autoplay; camera; microphone; clipboard-read; clipboard-write;\" frameborder=\"0\" allowfullscreen></iframe></div>"
      ],
      "text/plain": [
       "<IPython.core.display.HTML object>"
      ]
     },
     "metadata": {},
     "output_type": "display_data"
    },
    {
     "name": "stdout",
     "output_type": "stream",
     "text": [
      "Keyboard interruption in main thread... closing server.\n"
     ]
    },
    {
     "data": {
      "text/plain": []
     },
     "execution_count": 1,
     "metadata": {},
     "output_type": "execute_result"
    }
   ],
   "source": [
    "import gradio as gr\n",
    "\n",
    "\n",
    "# 이벤트 처리 함수\n",
    "def chatbot_send_message(chat_history, text):\n",
    "    ai_text = chain.invoke(text)\n",
    "    chat_history.append([text, ai_text])\n",
    "    return chat_history, \"\"\n",
    "\n",
    "with gr.Blocks() as app:\n",
    "    with gr.Tab(\"음성 인식봇\"):\n",
    "        with gr.Column():\n",
    "            gr.Markdown(\n",
    "                value=\"\"\"\n",
    "<center><h1> 음성 인식 봇 </h1></center>\n",
    "<center> AI 인공지능 봇입니다. 음성으로 묻거나 문서 요약, 일정 관리 등을 할 수 있습니다.</center>\n",
    "\"\"\"\n",
    "            )\n",
    "            cb_chatbot = gr.Chatbot(\n",
    "                value=[[None, \"안녕하세요 AI 챗봇입니다. 무엇이든 질문하세요\"],\n",
    "                       ['나는 지금 배가 고파요', '배가 고프시군요 메뉴를 추천해드릴까요?']\n",
    "                       ],\n",
    "                label=\"구미챗봇\",\n",
    "            )\n",
    "        with gr.Row():\n",
    "            cb_textbox = gr.Textbox(\n",
    "                lines=3,\n",
    "                placeholder=\"입력창입니다.\",\n",
    "                container=False,\n",
    "                scale=7\n",
    "            ) # 채팅 입력\n",
    "\n",
    "            gr.Audio(\n",
    "                format=\"mp3\",\n",
    "                scale=1,\n",
    "                min_width=200,\n",
    "                label=\"음성을 입력해주세요\"\n",
    "            ) # 음성 입력\n",
    "\n",
    "            cb_send_btn = gr.Button(\n",
    "                value=\"보내기\",\n",
    "                visible=\"primary\",\n",
    "                scale=1\n",
    "            ) # 실행 버튼\n",
    "        with gr.Row():\n",
    "            gr.Button(\n",
    "                value=\"되돌리기\"\n",
    "            )\n",
    "            gr.Button(\n",
    "                value=\"초기화\"\n",
    "            )\n",
    "        # 텍스트 입력 파일 업로드 칸 만들고 \n",
    "        cb_send_btn.click(\n",
    "            fn=chatbot_send_message,\n",
    "            inputs=[cb_chatbot, cb_textbox], # 이걸 서버 혹은 db에서 받아오게 한다면? 협업할 때 요청 받은 값을 이 곳에 넣기\n",
    "            outputs=[cb_chatbot, cb_textbox]\n",
    "        )\n",
    "\n",
    "    with gr.Tab(\"문서 요약봇\"):\n",
    "        pass\n",
    "    with gr.Tab(\"일정 관리봇\"):\n",
    "        pass\n",
    "app.launch(debug=True)"
   ]
  }
 ],
 "metadata": {
  "kernelspec": {
   "display_name": "gumi_env310",
   "language": "python",
   "name": "python3"
  },
  "language_info": {
   "codemirror_mode": {
    "name": "ipython",
    "version": 3
   },
   "file_extension": ".py",
   "mimetype": "text/x-python",
   "name": "python",
   "nbconvert_exporter": "python",
   "pygments_lexer": "ipython3",
   "version": "3.10.14"
  }
 },
 "nbformat": 4,
 "nbformat_minor": 2
}
