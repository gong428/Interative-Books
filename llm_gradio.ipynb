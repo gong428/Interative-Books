{
 "cells": [
  {
   "cell_type": "markdown",
   "metadata": {},
   "source": [
    "Les Misérables"
   ]
  },
  {
   "cell_type": "markdown",
   "metadata": {},
   "source": [
    "## llm 설정"
   ]
  },
  {
   "cell_type": "code",
   "execution_count": 2,
   "metadata": {},
   "outputs": [
    {
     "data": {
      "text/plain": [
       "True"
      ]
     },
     "execution_count": 2,
     "metadata": {},
     "output_type": "execute_result"
    }
   ],
   "source": [
    "from langchain_community.chat_models import ChatOllama\n",
    "from langchain.chat_models import ChatOpenAI\n",
    "from dotenv import load_dotenv,find_dotenv\n",
    "from langchain_core.output_parsers import StrOutputParser\n",
    "from langchain.chains import ConversationChain\n",
    "from langchain.memory import ConversationBufferMemory\n",
    "from langchain.prompts import ChatMessagePromptTemplate,ChatPromptTemplate,SystemMessagePromptTemplate,HumanMessagePromptTemplate,MessagesPlaceholder\n",
    "from langchain import LLMChain\n",
    "load_dotenv()"
   ]
  },
  {
   "cell_type": "code",
   "execution_count": 3,
   "metadata": {},
   "outputs": [],
   "source": [
    "# 프롬프트에 들어가야 하는 내용\n",
    "chat_history = []\n",
    "context_books = None # 임베딩된 내용 불러오게 하기\n",
    "context_characters = '장발장' # 임베딩된 캐릭터 말하는 방식 불러오게 하기\n",
    "emotion = '중립' # 대화문 추출 후 감정 분석하기 "
   ]
  },
  {
   "cell_type": "code",
   "execution_count": 4,
   "metadata": {},
   "outputs": [],
   "source": [
    "llm_model = ChatOllama(model='llama3.1:latest')\n",
    "#response_llm = llm_model.invoke(\"Hello, how can I help you today?\")\n",
    "#print(response_llm.content)\n"
   ]
  },
  {
   "cell_type": "code",
   "execution_count": 5,
   "metadata": {},
   "outputs": [
    {
     "name": "stderr",
     "output_type": "stream",
     "text": [
      "c:\\Users\\Admin\\miniconda3\\envs\\gumi_env310\\lib\\site-packages\\langchain_core\\_api\\deprecation.py:139: LangChainDeprecationWarning: The class `ChatOpenAI` was deprecated in LangChain 0.0.10 and will be removed in 0.3.0. An updated version of the class exists in the langchain-openai package and should be used instead. To use it run `pip install -U langchain-openai` and import as `from langchain_openai import ChatOpenAI`.\n",
      "  warn_deprecated(\n"
     ]
    }
   ],
   "source": [
    "gpt_model = ChatOpenAI(model_name=\"gpt-4\")\n",
    "#response_gpt = gpt_model.invoke(\"Hello, how can I help you today?\")\n",
    "#print(response_gpt.content)"
   ]
  },
  {
   "cell_type": "markdown",
   "metadata": {},
   "source": [
    "## 1. llm 모델 작성"
   ]
  },
  {
   "cell_type": "markdown",
   "metadata": {},
   "source": [
    "### 1-1. 프롬프트 작성"
   ]
  },
  {
   "cell_type": "code",
   "execution_count": 6,
   "metadata": {},
   "outputs": [],
   "source": [
    "system_message = \"\"\"\n",
    "    너는 책을 읽어주는 어시스턴트야. 아래 지침에 따라 답변을 해줘야 해.\n",
    "    모든 출력은 한국어로 해야 해.\n",
    "    \n",
    "    1. 사용자가 txt 파일 내용을 제공하면, 해당 내용을 문단별로 출력해야 해.\n",
    "    2. 사용자가 '다음'이라는 질문을 하면, 다음 문단을 원문대로 출력해야 해.\n",
    "    3. txt파일 내용을 처음 받으면, {context_character}의 말투를 참고하여 등장인물처럼 대화해야 해.\n",
    "    4. 문단 중에 \" \", ' ' 로 감싸진 대화문이 나오면, 대화문 뒤에 : {emotion}을 함께 출력해야 해.\n",
    "    5. 사용자가 책의 내용에 대해 질문을 하면, 등장인물의 말투로 {context_books}를 참고하여 답변해야 해.\n",
    "\n",
    "\"\"\""
   ]
  },
  {
   "cell_type": "code",
   "execution_count": 7,
   "metadata": {},
   "outputs": [],
   "source": [
    "chat_prompt = ChatPromptTemplate.from_messages(\n",
    "    [\n",
    "        (\"system\", system_message),\n",
    "        MessagesPlaceholder(variable_name=\"history\"), # 이전 대화 내용 저장용\n",
    "        (\"human\", \"{input}\")\n",
    "    ]\n",
    ")\n",
    "output_parser= StrOutputParser()#글자만 가져온다\n"
   ]
  },
  {
   "cell_type": "markdown",
   "metadata": {},
   "source": [
    "### 1-2 대화 내용을 기억하는 llm 만들기"
   ]
  },
  {
   "cell_type": "code",
   "execution_count": 8,
   "metadata": {},
   "outputs": [
    {
     "name": "stderr",
     "output_type": "stream",
     "text": [
      "c:\\Users\\Admin\\miniconda3\\envs\\gumi_env310\\lib\\site-packages\\langchain_core\\_api\\deprecation.py:139: LangChainDeprecationWarning: The class `LLMChain` was deprecated in LangChain 0.1.17 and will be removed in 1.0. Use RunnableSequence, e.g., `prompt | llm` instead.\n",
      "  warn_deprecated(\n"
     ]
    }
   ],
   "source": [
    "# 대화 메모리 생성 (대화 히스토리를 관리)\n",
    "conversation_memory = ConversationBufferMemory()\n",
    "\n",
    "\n",
    "# LLMChain 생성: 프롬프트와 LLM을 연결\n",
    "llm_chain = LLMChain(\n",
    "    llm=gpt_model,\n",
    "    prompt=chat_prompt,\n",
    ")\n",
    "\n",
    "# 사용자 질문 처리 및 답변 생성 함수\n",
    "def handle_user_input(user_input):\n",
    "    global chat_history\n",
    "    global context_books\n",
    "    global context_characters\n",
    "    global emotion\n",
    "\n",
    "    # 히스토리 업데이트\n",
    "    chat_history.append({\"role\": \"user\", \"content\": user_input})\n",
    "            \n",
    "    # 모델 실행 및 답변 생성\n",
    "    response = llm_chain.run({\n",
    "        \"history\": chat_history,\n",
    "        \"input\": user_input,\n",
    "        \"context_books\": context_books,\n",
    "        \"context_character\": context_characters,\n",
    "        \"emotion\": emotion,\n",
    "    })\n",
    "    \n",
    "    # 히스토리에 응답 추가\n",
    "    chat_history.append({\"role\": \"assistant\", \"content\": response})\n",
    "    \n",
    "    return response, chat_history\n"
   ]
  },
  {
   "cell_type": "markdown",
   "metadata": {},
   "source": [
    "### 2. 텍스트 벡터화 임베딩"
   ]
  },
  {
   "cell_type": "markdown",
   "metadata": {},
   "source": [
    "### 챗봇 ui"
   ]
  },
  {
   "cell_type": "markdown",
   "metadata": {},
   "source": [
    "### 2-1 백터화 준비"
   ]
  },
  {
   "cell_type": "code",
   "execution_count": 9,
   "metadata": {},
   "outputs": [],
   "source": [
    "from langchain_openai import OpenAIEmbeddings\n",
    "import os\n",
    "from langchain.docstore.document import Document\n",
    "from langchain_text_splitters import RecursiveCharacterTextSplitter\n",
    "from langchain_chroma import Chroma\n",
    "import shutil\n",
    "import io\n",
    "OPENAI_DB_PATH = \"./openai_db\" # 벡터화 임베딩 데이터 저장 장소\n",
    "UPLOAD_TXT_PATH = \"\" # 업로드한 파일의 경로\n",
    "\n",
    "#감정 리스트\n",
    "emb = OpenAIEmbeddings()\n",
    "docs=[]\n",
    "text_splitter = RecursiveCharacterTextSplitter(\n",
    "    chunk_size = 1000, # 각 조각의 최대 문자 수를 1000자로 설정합니다.\n",
    "    chunk_overlap = 100  # 각 조각이 서로 겹치는 부분을 100자로 설정하여 분할된 텍스트 간의 연결성을 유지합니다.\n",
    "    )\n",
    "openai_db = None"
   ]
  },
  {
   "cell_type": "markdown",
   "metadata": {},
   "source": [
    "### 2-2 파일 업로드 처리"
   ]
  },
  {
   "cell_type": "code",
   "execution_count": 10,
   "metadata": {},
   "outputs": [],
   "source": [
    "# 저장할 파일 경로\n",
    "save_dir = \"save_txt\"\n",
    "\n",
    "def save_uploaded_file(file):\n",
    "    global chat_history\n",
    "    os.makedirs(save_dir, exist_ok=True)\n",
    "    file_path = os.path.join(save_dir, os.path.basename(file.name))\n",
    "    if file is not None:\n",
    "        # file 은 임시 저장 결로를 나타내는 듯\n",
    "        shutil.copy(file, file_path)\n",
    "    print(\"저장되었음\")\n",
    "\n",
    "    with open(file_path, 'r', encoding='utf-8') as f:\n",
    "        content = f.read()\n",
    "        paragraphs = content.split('\\n\\n')  # 빈 줄로 문단 분리\n",
    "        for paragraph in paragraphs:\n",
    "            #chat_history.append({\"role\": \"assistant\", \"content\": paragraph})\n",
    "            chat_history.append(paragraph)\n",
    "    return file_path"
   ]
  },
  {
   "cell_type": "code",
   "execution_count": 11,
   "metadata": {},
   "outputs": [],
   "source": [
    "# 파일 벡터화 임베딩\n",
    "def text_vectorize(file):\n",
    "    \n",
    "    file_path = os.path.join(save_dir, os.path.basename(file.name))\n",
    "\n",
    "    if not os.path.exists(file_path):\n",
    "            print(f\"File not found at: {file_path}\")\n",
    "            return None\n",
    "\n",
    "    try:\n",
    "        with open(file_path, 'r', encoding='utf-8') as f:\n",
    "            content = f.read()\n",
    "            doc = Document(page_content=content)\n",
    "            docs.append(doc)\n",
    "            docs_spliter = text_splitter.split_documents(docs)\n",
    "            openai_vectorstore = Chroma.from_documents(\n",
    "                docs_spliter,\n",
    "                emb,\n",
    "                persist_directory=OPENAI_DB_PATH\n",
    "            )\n",
    "    except Exception as e:\n",
    "        print(f\"Error reading file: {e}\")\n",
    "        return None\n",
    "    \n",
    "\n",
    "    # 데이터가 잘 저장되었는지 확인하는 부분\n",
    "    try:\n",
    "        doc_count = openai_vectorstore._collection.count()\n",
    "        print(f\"벡터 저장소에 저장된 문서 수: {doc_count}\")\n",
    "        \n",
    "        # 예시로 첫 번째 문서 임베딩을 확인해보기\n",
    "        if doc_count > 0:\n",
    "            sample_result = openai_vectorstore.similarity_search(docs_spliter[0].page_content)\n",
    "            print(f\"첫 번째 문서와 유사한 문서 검색 결과: {sample_result}\")\n",
    "    except Exception as e:\n",
    "        print(f\"Error verifying vector store: {e}\")\n",
    "        return None\n",
    "\n",
    "    return openai_vectorstore"
   ]
  },
  {
   "cell_type": "code",
   "execution_count": 12,
   "metadata": {},
   "outputs": [],
   "source": [
    "# 파일 업로드 처리 함수\n",
    "# 이거 수정해서 벡터화 및 파일 db 생성해서 순서대로 부르게 하기\n",
    "# gpt 보라\n",
    "def chatbot_send_file(chat_history, file):\n",
    "    global UPLOAD_TXT_PATH\n",
    "\n",
    "    UPLOAD_TXT_PATH = save_uploaded_file(file)\n",
    "    openai_db = text_vectorize(file)\n",
    "    \n",
    "    chat_history.append([\"사용자가 업로드한 파일입니다.\",f\"{file.name}\"])\n",
    "    return chat_history"
   ]
  },
  {
   "cell_type": "code",
   "execution_count": 13,
   "metadata": {},
   "outputs": [],
   "source": [
    "# 이벤트 처리 함수\n",
    "def chatbot_send_message(cb_chatbot,cb_textbox,history):\n",
    "    global context_books\n",
    "    global chat_history\n",
    "    # 사용자 입력 가져오기\n",
    "    user_input = cb_textbox\n",
    "    \n",
    "    if openai_db is not None:\n",
    "        openai_retriever = openai_db.as_retriever(\n",
    "        search_kwargs={\"k\":5}\n",
    "        )\n",
    "    \n",
    "        context_books = openai_retriever.invoke(user_input)\n",
    "\n",
    "    # handle_user_input 함수를 통해 답변 생성\n",
    "    response, updated_history = handle_user_input(user_input)\n",
    "    #response, updated_history = CHATBOT.handle_user_input(user_input)\n",
    "\n",
    "    \n",
    "    # 챗봇의 응답을 대화 기록에 추가\n",
    "    most_recent_user = None\n",
    "    most_recent_assistant = None\n",
    "    chatbot_output = []\n",
    "    for entry in reversed(chat_history):\n",
    "        if entry[\"role\"] == \"user\" and most_recent_user is None:\n",
    "            most_recent_user = entry[\"content\"]\n",
    "        elif entry[\"role\"] == \"assistant\" and most_recent_assistant is None:\n",
    "            most_recent_assistant = entry[\"content\"]\n",
    "        \n",
    "        # 둘 다 찾으면 종료\n",
    "        if most_recent_user and most_recent_assistant:\n",
    "            break\n",
    "            \n",
    "    chatbot_output.append((most_recent_user, most_recent_assistant))\n",
    "\n",
    "    # 텍스트박스 초기화\n",
    "    cb_textbox = \"\"\n",
    "    print(chat_history)\n",
    "    print(chatbot_output)\n",
    "    # 새로운 대화 기록과 초기화된 텍스트박스를 반환\n",
    "    return chatbot_output, cb_textbox"
   ]
  },
  {
   "cell_type": "code",
   "execution_count": 14,
   "metadata": {},
   "outputs": [
    {
     "name": "stderr",
     "output_type": "stream",
     "text": [
      "c:\\Users\\Admin\\miniconda3\\envs\\gumi_env310\\lib\\site-packages\\gradio\\utils.py:1002: UserWarning: Expected 3 arguments for function <function chatbot_send_message at 0x00000220B1E72B00>, received 2.\n",
      "  warnings.warn(\n",
      "c:\\Users\\Admin\\miniconda3\\envs\\gumi_env310\\lib\\site-packages\\gradio\\utils.py:1006: UserWarning: Expected at least 3 arguments for function <function chatbot_send_message at 0x00000220B1E72B00>, received 2.\n",
      "  warnings.warn(\n"
     ]
    },
    {
     "name": "stdout",
     "output_type": "stream",
     "text": [
      "Running on local URL:  http://127.0.0.1:7860\n",
      "\n",
      "To create a public link, set `share=True` in `launch()`.\n"
     ]
    },
    {
     "data": {
      "text/html": [
       "<div><iframe src=\"http://127.0.0.1:7860/\" width=\"100%\" height=\"500\" allow=\"autoplay; camera; microphone; clipboard-read; clipboard-write;\" frameborder=\"0\" allowfullscreen></iframe></div>"
      ],
      "text/plain": [
       "<IPython.core.display.HTML object>"
      ]
     },
     "metadata": {},
     "output_type": "display_data"
    },
    {
     "name": "stdout",
     "output_type": "stream",
     "text": [
      "저장되었음\n",
      "벡터 저장소에 저장된 문서 수: 214\n",
      "첫 번째 문서와 유사한 문서 검색 결과: [Document(page_content='LES MISÉRABLES\\nPREFACE\\nSo long as there shall exist, by virtue of law and custom, decrees of damnation pronounced by society, artificially creating hells amid the civilization of earth, and adding the element of human fate to divine destiny; so long as the three great problems of the century—the degradation of man through pauperism, the corruption of woman through hunger, the crippling of children through lack of light—are unsolved; so long as social asphyxia is possible in any part of the world;—in other words, and with a still wider significance, so long as ignorance and poverty exist on earth, books of the nature of Les Misérables cannot fail to be of use.\\n\\nHAUTEVILLE HOUSE, 1862.\\n\\nVOLUME I\\nFANTINE\\nBOOK FIRST—A JUST MAN\\nCHAPTER I—M. MYRIEL\\nIn 1815, M. Charles-François-Bienvenu Myriel was Bishop of D—— He was an old man of about seventy-five years of age; he had occupied the see of D—— since 1806.'), Document(page_content='LES MISÉRABLES\\nPREFACE\\nSo long as there shall exist, by virtue of law and custom, decrees of damnation pronounced by society, artificially creating hells amid the civilization of earth, and adding the element of human fate to divine destiny; so long as the three great problems of the century—the degradation of man through pauperism, the corruption of woman through hunger, the crippling of children through lack of light—are unsolved; so long as social asphyxia is possible in any part of the world;—in other words, and with a still wider significance, so long as ignorance and poverty exist on earth, books of the nature of Les Misérables cannot fail to be of use.\\n\\nHAUTEVILLE HOUSE, 1862.\\n\\nVOLUME I\\nFANTINE\\nBOOK FIRST—A JUST MAN\\nCHAPTER I—M. MYRIEL\\nIn 1815, M. Charles-François-Bienvenu Myriel was Bishop of D—— He was an old man of about seventy-five years of age; he had occupied the see of D—— since 1806.'), Document(page_content='“Have a care of the manner in which you turn towards the dead. Think not of that which perishes. Gaze steadily. You will perceive the living light of your well-beloved dead in the depths of heaven.” He knew that faith is wholesome. He sought to counsel and calm the despairing man, by pointing out to him the resigned man, and to transform the grief which gazes upon a grave by showing him the grief which fixes its gaze upon a star.\\n\\nCHAPTER V—MONSEIGNEUR BIENVENU MADE HIS CASSOCKS LAST TOO LONG\\nThe private life of M. Myriel was filled with the same thoughts as his public life. The voluntary poverty in which the Bishop of D—— lived, would have been a solemn and charming sight for any one who could have viewed it close at hand.'), Document(page_content='CHAPTER I—M. MYRIEL\\nIn 1815, M. Charles-François-Bienvenu Myriel was Bishop of D—— He was an old man of about seventy-five years of age; he had occupied the see of D—— since 1806.')]\n"
     ]
    },
    {
     "name": "stderr",
     "output_type": "stream",
     "text": [
      "c:\\Users\\Admin\\miniconda3\\envs\\gumi_env310\\lib\\site-packages\\gradio\\helpers.py:978: UserWarning: Unexpected argument. Filling with None.\n",
      "  warnings.warn(\"Unexpected argument. Filling with None.\")\n",
      "c:\\Users\\Admin\\miniconda3\\envs\\gumi_env310\\lib\\site-packages\\langchain_core\\_api\\deprecation.py:139: LangChainDeprecationWarning: The method `Chain.run` was deprecated in langchain 0.1.0 and will be removed in 0.3.0. Use invoke instead.\n",
      "  warn_deprecated(\n"
     ]
    },
    {
     "name": "stdout",
     "output_type": "stream",
     "text": [
      "['LES MISÉRABLES\\nPREFACE\\nSo long as there shall exist, by virtue of law and custom, decrees of damnation pronounced by society, artificially creating hells amid the civilization of earth, and adding the element of human fate to divine destiny; so long as the three great problems of the century—the degradation of man through pauperism, the corruption of woman through hunger, the crippling of children through lack of light—are unsolved; so long as social asphyxia is possible in any part of the world;—in other words, and with a still wider significance, so long as ignorance and poverty exist on earth, books of the nature of Les Misérables cannot fail to be of use.', 'HAUTEVILLE HOUSE, 1862.', 'VOLUME I\\nFANTINE\\nBOOK FIRST—A JUST MAN\\nCHAPTER I—M. MYRIEL\\nIn 1815, M. Charles-François-Bienvenu Myriel was Bishop of D—— He was an old man of about seventy-five years of age; he had occupied the see of D—— since 1806.', 'Although this detail has no connection whatever with the real substance of what we are about to relate, it will not be superfluous, if merely for the sake of exactness in all points, to mention here the various rumors and remarks which had been in circulation about him from the very moment when he arrived in the diocese. True or false, that which is said of men often occupies as important a place in their lives, and above all in their destinies, as that which they do. M. Myriel was the son of a councillor of the Parliament of Aix; hence he belonged to the nobility of the bar. It was said that his father, destining him to be the heir of his own post, had married him at a very early age, eighteen or twenty, in accordance with a custom which is rather widely prevalent in parliamentary families. In spite of this marriage, however, it was said that Charles Myriel created a great deal of talk. He was well formed, though rather short in stature, elegant, graceful, intelligent; the whole of the first portion of his life had been devoted to the world and to gallantry.', 'The Revolution came; events succeeded each other with precipitation; the parliamentary families, decimated, pursued, hunted down, were dispersed. M. Charles Myriel emigrated to Italy at the very beginning of the Revolution. There his wife died of a malady of the chest, from which she had long suffered. He had no children. What took place next in the fate of M. Myriel? The ruin of the French society of the olden days, the fall of his own family, the tragic spectacles of ’93, which were, perhaps, even more alarming to the emigrants who viewed them from a distance, with the magnifying powers of terror,—did these cause the ideas of renunciation and solitude to germinate in him? Was he, in the midst of these distractions, these affections which absorbed his life, suddenly smitten with one of those mysterious and terrible blows which sometimes overwhelm, by striking to his heart, a man whom public catastrophes would not shake, by striking at his existence and his fortune? No one could have told: all that was known was, that when he returned from Italy he was a priest.', 'In 1804, M. Myriel was the Curé of B—— [Brignolles]. He was already advanced in years, and lived in a very retired manner.', 'About the epoch of the coronation, some petty affair connected with his curacy—just what, is not precisely known—took him to Paris. Among other powerful persons to whom he went to solicit aid for his parishioners was M. le Cardinal Fesch. One day, when the Emperor had come to visit his uncle, the worthy Curé, who was waiting in the anteroom, found himself present when His Majesty passed. Napoleon, on finding himself observed with a certain curiosity by this old man, turned round and said abruptly:—', '“Who is this good man who is staring at me?”', '“Sire,” said M. Myriel, “you are looking at a good man, and I at a great man. Each of us can profit by it.”', 'That very evening, the Emperor asked the Cardinal the name of the Curé, and some time afterwards M. Myriel was utterly astonished to learn that he had been appointed Bishop of D——', 'What truth was there, after all, in the stories which were invented as to the early portion of M. Myriel’s life? No one knew. Very few families had been acquainted with the Myriel family before the Revolution.', 'M. Myriel had to undergo the fate of every newcomer in a little town, where there are many mouths which talk, and very few heads which think. He was obliged to undergo it although he was a bishop, and because he was a bishop. But after all, the rumors with which his name was connected were rumors only,—noise, sayings, words; less than words—palabres, as the energetic language of the South expresses it.', 'However that may be, after nine years of episcopal power and of residence in D——, all the stories and subjects of conversation which engross petty towns and petty people at the outset had fallen into profound oblivion. No one would have dared to mention them; no one would have dared to recall them.', 'M. Myriel had arrived at D—— accompanied by an elderly spinster, Mademoiselle Baptistine, who was his sister, and ten years his junior.', 'Their only domestic was a female servant of the same age as Mademoiselle Baptistine, and named Madame Magloire, who, after having been the servant of M. le Curé, now assumed the double title of maid to Mademoiselle and housekeeper to Monseigneur.', 'Mademoiselle Baptistine was a long, pale, thin, gentle creature; she realized the ideal expressed by the word “respectable”; for it seems that a woman must needs be a mother in order to be venerable. She had never been pretty; her whole life, which had been nothing but a succession of holy deeds, had finally conferred upon her a sort of pallor and transparency; and as she advanced in years she had acquired what may be called the beauty of goodness. What had been leanness in her youth had become transparency in her maturity; and this diaphaneity allowed the angel to be seen. She was a soul rather than a virgin. Her person seemed made of a shadow; there was hardly sufficient body to provide for sex; a little matter enclosing a light; large eyes forever drooping;—a mere pretext for a soul’s remaining on the earth.', 'Madame Magloire was a little, fat, white old woman, corpulent and bustling; always out of breath,—in the first place, because of her activity, and in the next, because of her asthma.', 'On his arrival, M. Myriel was installed in the episcopal palace with the honors required by the Imperial decrees, which class a bishop immediately after a major-general. The mayor and the president paid the first call on him, and he, in turn, paid the first call on the general and the prefect.', 'The installation over, the town waited to see its bishop at work.', {'role': 'user', 'content': '첫 문단 읽어줘\\n'}, {'role': 'assistant', 'content': 'LES MISÉRABLES\\nPREFACE\\n\"법과 관습의 힘으로 인해 사회가 선고하는 저주의 판결, 인공적으로 지구의 문명 속에 지옥을 만들어내고, 신의 운명에 인간의 운명 요소를 더하고 있는 한; 세기의 세 가지 큰 문제—가난으로 인한 인간의 퇴화, 배고픔으로 인한 여성의 부패, 빛의 부족으로 인한 아이들의 저하—가 해결되지 않은 한; 세계의 어느 곳에서든 사회적 질식이 가능한 한;—다시 말해, 그 의미가 더 넓게 보면, 지구상에 무지와 빈곤이 존재하는 한, Les Misérables와 같은 성격의 책들은 유용하지 않을 수 없다.\" : 중립'}]\n",
      "[('첫 문단 읽어줘\\n', 'LES MISÉRABLES\\nPREFACE\\n\"법과 관습의 힘으로 인해 사회가 선고하는 저주의 판결, 인공적으로 지구의 문명 속에 지옥을 만들어내고, 신의 운명에 인간의 운명 요소를 더하고 있는 한; 세기의 세 가지 큰 문제—가난으로 인한 인간의 퇴화, 배고픔으로 인한 여성의 부패, 빛의 부족으로 인한 아이들의 저하—가 해결되지 않은 한; 세계의 어느 곳에서든 사회적 질식이 가능한 한;—다시 말해, 그 의미가 더 넓게 보면, 지구상에 무지와 빈곤이 존재하는 한, Les Misérables와 같은 성격의 책들은 유용하지 않을 수 없다.\" : 중립')]\n"
     ]
    },
    {
     "name": "stderr",
     "output_type": "stream",
     "text": [
      "c:\\Users\\Admin\\miniconda3\\envs\\gumi_env310\\lib\\site-packages\\gradio\\helpers.py:978: UserWarning: Unexpected argument. Filling with None.\n",
      "  warnings.warn(\"Unexpected argument. Filling with None.\")\n"
     ]
    },
    {
     "name": "stdout",
     "output_type": "stream",
     "text": [
      "['LES MISÉRABLES\\nPREFACE\\nSo long as there shall exist, by virtue of law and custom, decrees of damnation pronounced by society, artificially creating hells amid the civilization of earth, and adding the element of human fate to divine destiny; so long as the three great problems of the century—the degradation of man through pauperism, the corruption of woman through hunger, the crippling of children through lack of light—are unsolved; so long as social asphyxia is possible in any part of the world;—in other words, and with a still wider significance, so long as ignorance and poverty exist on earth, books of the nature of Les Misérables cannot fail to be of use.', 'HAUTEVILLE HOUSE, 1862.', 'VOLUME I\\nFANTINE\\nBOOK FIRST—A JUST MAN\\nCHAPTER I—M. MYRIEL\\nIn 1815, M. Charles-François-Bienvenu Myriel was Bishop of D—— He was an old man of about seventy-five years of age; he had occupied the see of D—— since 1806.', 'Although this detail has no connection whatever with the real substance of what we are about to relate, it will not be superfluous, if merely for the sake of exactness in all points, to mention here the various rumors and remarks which had been in circulation about him from the very moment when he arrived in the diocese. True or false, that which is said of men often occupies as important a place in their lives, and above all in their destinies, as that which they do. M. Myriel was the son of a councillor of the Parliament of Aix; hence he belonged to the nobility of the bar. It was said that his father, destining him to be the heir of his own post, had married him at a very early age, eighteen or twenty, in accordance with a custom which is rather widely prevalent in parliamentary families. In spite of this marriage, however, it was said that Charles Myriel created a great deal of talk. He was well formed, though rather short in stature, elegant, graceful, intelligent; the whole of the first portion of his life had been devoted to the world and to gallantry.', 'The Revolution came; events succeeded each other with precipitation; the parliamentary families, decimated, pursued, hunted down, were dispersed. M. Charles Myriel emigrated to Italy at the very beginning of the Revolution. There his wife died of a malady of the chest, from which she had long suffered. He had no children. What took place next in the fate of M. Myriel? The ruin of the French society of the olden days, the fall of his own family, the tragic spectacles of ’93, which were, perhaps, even more alarming to the emigrants who viewed them from a distance, with the magnifying powers of terror,—did these cause the ideas of renunciation and solitude to germinate in him? Was he, in the midst of these distractions, these affections which absorbed his life, suddenly smitten with one of those mysterious and terrible blows which sometimes overwhelm, by striking to his heart, a man whom public catastrophes would not shake, by striking at his existence and his fortune? No one could have told: all that was known was, that when he returned from Italy he was a priest.', 'In 1804, M. Myriel was the Curé of B—— [Brignolles]. He was already advanced in years, and lived in a very retired manner.', 'About the epoch of the coronation, some petty affair connected with his curacy—just what, is not precisely known—took him to Paris. Among other powerful persons to whom he went to solicit aid for his parishioners was M. le Cardinal Fesch. One day, when the Emperor had come to visit his uncle, the worthy Curé, who was waiting in the anteroom, found himself present when His Majesty passed. Napoleon, on finding himself observed with a certain curiosity by this old man, turned round and said abruptly:—', '“Who is this good man who is staring at me?”', '“Sire,” said M. Myriel, “you are looking at a good man, and I at a great man. Each of us can profit by it.”', 'That very evening, the Emperor asked the Cardinal the name of the Curé, and some time afterwards M. Myriel was utterly astonished to learn that he had been appointed Bishop of D——', 'What truth was there, after all, in the stories which were invented as to the early portion of M. Myriel’s life? No one knew. Very few families had been acquainted with the Myriel family before the Revolution.', 'M. Myriel had to undergo the fate of every newcomer in a little town, where there are many mouths which talk, and very few heads which think. He was obliged to undergo it although he was a bishop, and because he was a bishop. But after all, the rumors with which his name was connected were rumors only,—noise, sayings, words; less than words—palabres, as the energetic language of the South expresses it.', 'However that may be, after nine years of episcopal power and of residence in D——, all the stories and subjects of conversation which engross petty towns and petty people at the outset had fallen into profound oblivion. No one would have dared to mention them; no one would have dared to recall them.', 'M. Myriel had arrived at D—— accompanied by an elderly spinster, Mademoiselle Baptistine, who was his sister, and ten years his junior.', 'Their only domestic was a female servant of the same age as Mademoiselle Baptistine, and named Madame Magloire, who, after having been the servant of M. le Curé, now assumed the double title of maid to Mademoiselle and housekeeper to Monseigneur.', 'Mademoiselle Baptistine was a long, pale, thin, gentle creature; she realized the ideal expressed by the word “respectable”; for it seems that a woman must needs be a mother in order to be venerable. She had never been pretty; her whole life, which had been nothing but a succession of holy deeds, had finally conferred upon her a sort of pallor and transparency; and as she advanced in years she had acquired what may be called the beauty of goodness. What had been leanness in her youth had become transparency in her maturity; and this diaphaneity allowed the angel to be seen. She was a soul rather than a virgin. Her person seemed made of a shadow; there was hardly sufficient body to provide for sex; a little matter enclosing a light; large eyes forever drooping;—a mere pretext for a soul’s remaining on the earth.', 'Madame Magloire was a little, fat, white old woman, corpulent and bustling; always out of breath,—in the first place, because of her activity, and in the next, because of her asthma.', 'On his arrival, M. Myriel was installed in the episcopal palace with the honors required by the Imperial decrees, which class a bishop immediately after a major-general. The mayor and the president paid the first call on him, and he, in turn, paid the first call on the general and the prefect.', 'The installation over, the town waited to see its bishop at work.', {'role': 'user', 'content': '첫 문단 읽어줘\\n'}, {'role': 'assistant', 'content': 'LES MISÉRABLES\\nPREFACE\\n\"법과 관습의 힘으로 인해 사회가 선고하는 저주의 판결, 인공적으로 지구의 문명 속에 지옥을 만들어내고, 신의 운명에 인간의 운명 요소를 더하고 있는 한; 세기의 세 가지 큰 문제—가난으로 인한 인간의 퇴화, 배고픔으로 인한 여성의 부패, 빛의 부족으로 인한 아이들의 저하—가 해결되지 않은 한; 세계의 어느 곳에서든 사회적 질식이 가능한 한;—다시 말해, 그 의미가 더 넓게 보면, 지구상에 무지와 빈곤이 존재하는 한, Les Misérables와 같은 성격의 책들은 유용하지 않을 수 없다.\" : 중립'}, {'role': 'user', 'content': '다음'}, {'role': 'assistant', 'content': 'HAUTEVILLE HOUSE, 1862.'}]\n",
      "[('다음', 'HAUTEVILLE HOUSE, 1862.')]\n"
     ]
    },
    {
     "name": "stderr",
     "output_type": "stream",
     "text": [
      "c:\\Users\\Admin\\miniconda3\\envs\\gumi_env310\\lib\\site-packages\\gradio\\helpers.py:978: UserWarning: Unexpected argument. Filling with None.\n",
      "  warnings.warn(\"Unexpected argument. Filling with None.\")\n"
     ]
    },
    {
     "name": "stdout",
     "output_type": "stream",
     "text": [
      "['LES MISÉRABLES\\nPREFACE\\nSo long as there shall exist, by virtue of law and custom, decrees of damnation pronounced by society, artificially creating hells amid the civilization of earth, and adding the element of human fate to divine destiny; so long as the three great problems of the century—the degradation of man through pauperism, the corruption of woman through hunger, the crippling of children through lack of light—are unsolved; so long as social asphyxia is possible in any part of the world;—in other words, and with a still wider significance, so long as ignorance and poverty exist on earth, books of the nature of Les Misérables cannot fail to be of use.', 'HAUTEVILLE HOUSE, 1862.', 'VOLUME I\\nFANTINE\\nBOOK FIRST—A JUST MAN\\nCHAPTER I—M. MYRIEL\\nIn 1815, M. Charles-François-Bienvenu Myriel was Bishop of D—— He was an old man of about seventy-five years of age; he had occupied the see of D—— since 1806.', 'Although this detail has no connection whatever with the real substance of what we are about to relate, it will not be superfluous, if merely for the sake of exactness in all points, to mention here the various rumors and remarks which had been in circulation about him from the very moment when he arrived in the diocese. True or false, that which is said of men often occupies as important a place in their lives, and above all in their destinies, as that which they do. M. Myriel was the son of a councillor of the Parliament of Aix; hence he belonged to the nobility of the bar. It was said that his father, destining him to be the heir of his own post, had married him at a very early age, eighteen or twenty, in accordance with a custom which is rather widely prevalent in parliamentary families. In spite of this marriage, however, it was said that Charles Myriel created a great deal of talk. He was well formed, though rather short in stature, elegant, graceful, intelligent; the whole of the first portion of his life had been devoted to the world and to gallantry.', 'The Revolution came; events succeeded each other with precipitation; the parliamentary families, decimated, pursued, hunted down, were dispersed. M. Charles Myriel emigrated to Italy at the very beginning of the Revolution. There his wife died of a malady of the chest, from which she had long suffered. He had no children. What took place next in the fate of M. Myriel? The ruin of the French society of the olden days, the fall of his own family, the tragic spectacles of ’93, which were, perhaps, even more alarming to the emigrants who viewed them from a distance, with the magnifying powers of terror,—did these cause the ideas of renunciation and solitude to germinate in him? Was he, in the midst of these distractions, these affections which absorbed his life, suddenly smitten with one of those mysterious and terrible blows which sometimes overwhelm, by striking to his heart, a man whom public catastrophes would not shake, by striking at his existence and his fortune? No one could have told: all that was known was, that when he returned from Italy he was a priest.', 'In 1804, M. Myriel was the Curé of B—— [Brignolles]. He was already advanced in years, and lived in a very retired manner.', 'About the epoch of the coronation, some petty affair connected with his curacy—just what, is not precisely known—took him to Paris. Among other powerful persons to whom he went to solicit aid for his parishioners was M. le Cardinal Fesch. One day, when the Emperor had come to visit his uncle, the worthy Curé, who was waiting in the anteroom, found himself present when His Majesty passed. Napoleon, on finding himself observed with a certain curiosity by this old man, turned round and said abruptly:—', '“Who is this good man who is staring at me?”', '“Sire,” said M. Myriel, “you are looking at a good man, and I at a great man. Each of us can profit by it.”', 'That very evening, the Emperor asked the Cardinal the name of the Curé, and some time afterwards M. Myriel was utterly astonished to learn that he had been appointed Bishop of D——', 'What truth was there, after all, in the stories which were invented as to the early portion of M. Myriel’s life? No one knew. Very few families had been acquainted with the Myriel family before the Revolution.', 'M. Myriel had to undergo the fate of every newcomer in a little town, where there are many mouths which talk, and very few heads which think. He was obliged to undergo it although he was a bishop, and because he was a bishop. But after all, the rumors with which his name was connected were rumors only,—noise, sayings, words; less than words—palabres, as the energetic language of the South expresses it.', 'However that may be, after nine years of episcopal power and of residence in D——, all the stories and subjects of conversation which engross petty towns and petty people at the outset had fallen into profound oblivion. No one would have dared to mention them; no one would have dared to recall them.', 'M. Myriel had arrived at D—— accompanied by an elderly spinster, Mademoiselle Baptistine, who was his sister, and ten years his junior.', 'Their only domestic was a female servant of the same age as Mademoiselle Baptistine, and named Madame Magloire, who, after having been the servant of M. le Curé, now assumed the double title of maid to Mademoiselle and housekeeper to Monseigneur.', 'Mademoiselle Baptistine was a long, pale, thin, gentle creature; she realized the ideal expressed by the word “respectable”; for it seems that a woman must needs be a mother in order to be venerable. She had never been pretty; her whole life, which had been nothing but a succession of holy deeds, had finally conferred upon her a sort of pallor and transparency; and as she advanced in years she had acquired what may be called the beauty of goodness. What had been leanness in her youth had become transparency in her maturity; and this diaphaneity allowed the angel to be seen. She was a soul rather than a virgin. Her person seemed made of a shadow; there was hardly sufficient body to provide for sex; a little matter enclosing a light; large eyes forever drooping;—a mere pretext for a soul’s remaining on the earth.', 'Madame Magloire was a little, fat, white old woman, corpulent and bustling; always out of breath,—in the first place, because of her activity, and in the next, because of her asthma.', 'On his arrival, M. Myriel was installed in the episcopal palace with the honors required by the Imperial decrees, which class a bishop immediately after a major-general. The mayor and the president paid the first call on him, and he, in turn, paid the first call on the general and the prefect.', 'The installation over, the town waited to see its bishop at work.', {'role': 'user', 'content': '첫 문단 읽어줘\\n'}, {'role': 'assistant', 'content': 'LES MISÉRABLES\\nPREFACE\\n\"법과 관습의 힘으로 인해 사회가 선고하는 저주의 판결, 인공적으로 지구의 문명 속에 지옥을 만들어내고, 신의 운명에 인간의 운명 요소를 더하고 있는 한; 세기의 세 가지 큰 문제—가난으로 인한 인간의 퇴화, 배고픔으로 인한 여성의 부패, 빛의 부족으로 인한 아이들의 저하—가 해결되지 않은 한; 세계의 어느 곳에서든 사회적 질식이 가능한 한;—다시 말해, 그 의미가 더 넓게 보면, 지구상에 무지와 빈곤이 존재하는 한, Les Misérables와 같은 성격의 책들은 유용하지 않을 수 없다.\" : 중립'}, {'role': 'user', 'content': '다음'}, {'role': 'assistant', 'content': 'HAUTEVILLE HOUSE, 1862.'}, {'role': 'user', 'content': '이 책의 주인공은 누구야?\\n'}, {'role': 'assistant', 'content': '이 서사시의 주인공은 Jean Valjean이라고 하네. 그는 가난과 불행 속에서도 자신의 양심을 지키려 노력하는 인물이라네.'}]\n",
      "[('이 책의 주인공은 누구야?\\n', '이 서사시의 주인공은 Jean Valjean이라고 하네. 그는 가난과 불행 속에서도 자신의 양심을 지키려 노력하는 인물이라네.')]\n"
     ]
    },
    {
     "name": "stderr",
     "output_type": "stream",
     "text": [
      "c:\\Users\\Admin\\miniconda3\\envs\\gumi_env310\\lib\\site-packages\\gradio\\helpers.py:978: UserWarning: Unexpected argument. Filling with None.\n",
      "  warnings.warn(\"Unexpected argument. Filling with None.\")\n"
     ]
    },
    {
     "name": "stdout",
     "output_type": "stream",
     "text": [
      "['LES MISÉRABLES\\nPREFACE\\nSo long as there shall exist, by virtue of law and custom, decrees of damnation pronounced by society, artificially creating hells amid the civilization of earth, and adding the element of human fate to divine destiny; so long as the three great problems of the century—the degradation of man through pauperism, the corruption of woman through hunger, the crippling of children through lack of light—are unsolved; so long as social asphyxia is possible in any part of the world;—in other words, and with a still wider significance, so long as ignorance and poverty exist on earth, books of the nature of Les Misérables cannot fail to be of use.', 'HAUTEVILLE HOUSE, 1862.', 'VOLUME I\\nFANTINE\\nBOOK FIRST—A JUST MAN\\nCHAPTER I—M. MYRIEL\\nIn 1815, M. Charles-François-Bienvenu Myriel was Bishop of D—— He was an old man of about seventy-five years of age; he had occupied the see of D—— since 1806.', 'Although this detail has no connection whatever with the real substance of what we are about to relate, it will not be superfluous, if merely for the sake of exactness in all points, to mention here the various rumors and remarks which had been in circulation about him from the very moment when he arrived in the diocese. True or false, that which is said of men often occupies as important a place in their lives, and above all in their destinies, as that which they do. M. Myriel was the son of a councillor of the Parliament of Aix; hence he belonged to the nobility of the bar. It was said that his father, destining him to be the heir of his own post, had married him at a very early age, eighteen or twenty, in accordance with a custom which is rather widely prevalent in parliamentary families. In spite of this marriage, however, it was said that Charles Myriel created a great deal of talk. He was well formed, though rather short in stature, elegant, graceful, intelligent; the whole of the first portion of his life had been devoted to the world and to gallantry.', 'The Revolution came; events succeeded each other with precipitation; the parliamentary families, decimated, pursued, hunted down, were dispersed. M. Charles Myriel emigrated to Italy at the very beginning of the Revolution. There his wife died of a malady of the chest, from which she had long suffered. He had no children. What took place next in the fate of M. Myriel? The ruin of the French society of the olden days, the fall of his own family, the tragic spectacles of ’93, which were, perhaps, even more alarming to the emigrants who viewed them from a distance, with the magnifying powers of terror,—did these cause the ideas of renunciation and solitude to germinate in him? Was he, in the midst of these distractions, these affections which absorbed his life, suddenly smitten with one of those mysterious and terrible blows which sometimes overwhelm, by striking to his heart, a man whom public catastrophes would not shake, by striking at his existence and his fortune? No one could have told: all that was known was, that when he returned from Italy he was a priest.', 'In 1804, M. Myriel was the Curé of B—— [Brignolles]. He was already advanced in years, and lived in a very retired manner.', 'About the epoch of the coronation, some petty affair connected with his curacy—just what, is not precisely known—took him to Paris. Among other powerful persons to whom he went to solicit aid for his parishioners was M. le Cardinal Fesch. One day, when the Emperor had come to visit his uncle, the worthy Curé, who was waiting in the anteroom, found himself present when His Majesty passed. Napoleon, on finding himself observed with a certain curiosity by this old man, turned round and said abruptly:—', '“Who is this good man who is staring at me?”', '“Sire,” said M. Myriel, “you are looking at a good man, and I at a great man. Each of us can profit by it.”', 'That very evening, the Emperor asked the Cardinal the name of the Curé, and some time afterwards M. Myriel was utterly astonished to learn that he had been appointed Bishop of D——', 'What truth was there, after all, in the stories which were invented as to the early portion of M. Myriel’s life? No one knew. Very few families had been acquainted with the Myriel family before the Revolution.', 'M. Myriel had to undergo the fate of every newcomer in a little town, where there are many mouths which talk, and very few heads which think. He was obliged to undergo it although he was a bishop, and because he was a bishop. But after all, the rumors with which his name was connected were rumors only,—noise, sayings, words; less than words—palabres, as the energetic language of the South expresses it.', 'However that may be, after nine years of episcopal power and of residence in D——, all the stories and subjects of conversation which engross petty towns and petty people at the outset had fallen into profound oblivion. No one would have dared to mention them; no one would have dared to recall them.', 'M. Myriel had arrived at D—— accompanied by an elderly spinster, Mademoiselle Baptistine, who was his sister, and ten years his junior.', 'Their only domestic was a female servant of the same age as Mademoiselle Baptistine, and named Madame Magloire, who, after having been the servant of M. le Curé, now assumed the double title of maid to Mademoiselle and housekeeper to Monseigneur.', 'Mademoiselle Baptistine was a long, pale, thin, gentle creature; she realized the ideal expressed by the word “respectable”; for it seems that a woman must needs be a mother in order to be venerable. She had never been pretty; her whole life, which had been nothing but a succession of holy deeds, had finally conferred upon her a sort of pallor and transparency; and as she advanced in years she had acquired what may be called the beauty of goodness. What had been leanness in her youth had become transparency in her maturity; and this diaphaneity allowed the angel to be seen. She was a soul rather than a virgin. Her person seemed made of a shadow; there was hardly sufficient body to provide for sex; a little matter enclosing a light; large eyes forever drooping;—a mere pretext for a soul’s remaining on the earth.', 'Madame Magloire was a little, fat, white old woman, corpulent and bustling; always out of breath,—in the first place, because of her activity, and in the next, because of her asthma.', 'On his arrival, M. Myriel was installed in the episcopal palace with the honors required by the Imperial decrees, which class a bishop immediately after a major-general. The mayor and the president paid the first call on him, and he, in turn, paid the first call on the general and the prefect.', 'The installation over, the town waited to see its bishop at work.', {'role': 'user', 'content': '첫 문단 읽어줘\\n'}, {'role': 'assistant', 'content': 'LES MISÉRABLES\\nPREFACE\\n\"법과 관습의 힘으로 인해 사회가 선고하는 저주의 판결, 인공적으로 지구의 문명 속에 지옥을 만들어내고, 신의 운명에 인간의 운명 요소를 더하고 있는 한; 세기의 세 가지 큰 문제—가난으로 인한 인간의 퇴화, 배고픔으로 인한 여성의 부패, 빛의 부족으로 인한 아이들의 저하—가 해결되지 않은 한; 세계의 어느 곳에서든 사회적 질식이 가능한 한;—다시 말해, 그 의미가 더 넓게 보면, 지구상에 무지와 빈곤이 존재하는 한, Les Misérables와 같은 성격의 책들은 유용하지 않을 수 없다.\" : 중립'}, {'role': 'user', 'content': '다음'}, {'role': 'assistant', 'content': 'HAUTEVILLE HOUSE, 1862.'}, {'role': 'user', 'content': '이 책의 주인공은 누구야?\\n'}, {'role': 'assistant', 'content': '이 서사시의 주인공은 Jean Valjean이라고 하네. 그는 가난과 불행 속에서도 자신의 양심을 지키려 노력하는 인물이라네.'}, {'role': 'user', 'content': '이 챕터의 주인공은 누구야?'}, {'role': 'assistant', 'content': '이 챕터에서는 주로 M. Charles-François-Bienvenu Myriel 주교에 대해 이야기하고 있네. 그는 D——의 주교로, 고령이지만 매우 성실하게 살아가고 있어.'}]\n",
      "[('이 챕터의 주인공은 누구야?', '이 챕터에서는 주로 M. Charles-François-Bienvenu Myriel 주교에 대해 이야기하고 있네. 그는 D——의 주교로, 고령이지만 매우 성실하게 살아가고 있어.')]\n"
     ]
    },
    {
     "name": "stderr",
     "output_type": "stream",
     "text": [
      "c:\\Users\\Admin\\miniconda3\\envs\\gumi_env310\\lib\\site-packages\\gradio\\helpers.py:978: UserWarning: Unexpected argument. Filling with None.\n",
      "  warnings.warn(\"Unexpected argument. Filling with None.\")\n"
     ]
    },
    {
     "name": "stdout",
     "output_type": "stream",
     "text": [
      "['LES MISÉRABLES\\nPREFACE\\nSo long as there shall exist, by virtue of law and custom, decrees of damnation pronounced by society, artificially creating hells amid the civilization of earth, and adding the element of human fate to divine destiny; so long as the three great problems of the century—the degradation of man through pauperism, the corruption of woman through hunger, the crippling of children through lack of light—are unsolved; so long as social asphyxia is possible in any part of the world;—in other words, and with a still wider significance, so long as ignorance and poverty exist on earth, books of the nature of Les Misérables cannot fail to be of use.', 'HAUTEVILLE HOUSE, 1862.', 'VOLUME I\\nFANTINE\\nBOOK FIRST—A JUST MAN\\nCHAPTER I—M. MYRIEL\\nIn 1815, M. Charles-François-Bienvenu Myriel was Bishop of D—— He was an old man of about seventy-five years of age; he had occupied the see of D—— since 1806.', 'Although this detail has no connection whatever with the real substance of what we are about to relate, it will not be superfluous, if merely for the sake of exactness in all points, to mention here the various rumors and remarks which had been in circulation about him from the very moment when he arrived in the diocese. True or false, that which is said of men often occupies as important a place in their lives, and above all in their destinies, as that which they do. M. Myriel was the son of a councillor of the Parliament of Aix; hence he belonged to the nobility of the bar. It was said that his father, destining him to be the heir of his own post, had married him at a very early age, eighteen or twenty, in accordance with a custom which is rather widely prevalent in parliamentary families. In spite of this marriage, however, it was said that Charles Myriel created a great deal of talk. He was well formed, though rather short in stature, elegant, graceful, intelligent; the whole of the first portion of his life had been devoted to the world and to gallantry.', 'The Revolution came; events succeeded each other with precipitation; the parliamentary families, decimated, pursued, hunted down, were dispersed. M. Charles Myriel emigrated to Italy at the very beginning of the Revolution. There his wife died of a malady of the chest, from which she had long suffered. He had no children. What took place next in the fate of M. Myriel? The ruin of the French society of the olden days, the fall of his own family, the tragic spectacles of ’93, which were, perhaps, even more alarming to the emigrants who viewed them from a distance, with the magnifying powers of terror,—did these cause the ideas of renunciation and solitude to germinate in him? Was he, in the midst of these distractions, these affections which absorbed his life, suddenly smitten with one of those mysterious and terrible blows which sometimes overwhelm, by striking to his heart, a man whom public catastrophes would not shake, by striking at his existence and his fortune? No one could have told: all that was known was, that when he returned from Italy he was a priest.', 'In 1804, M. Myriel was the Curé of B—— [Brignolles]. He was already advanced in years, and lived in a very retired manner.', 'About the epoch of the coronation, some petty affair connected with his curacy—just what, is not precisely known—took him to Paris. Among other powerful persons to whom he went to solicit aid for his parishioners was M. le Cardinal Fesch. One day, when the Emperor had come to visit his uncle, the worthy Curé, who was waiting in the anteroom, found himself present when His Majesty passed. Napoleon, on finding himself observed with a certain curiosity by this old man, turned round and said abruptly:—', '“Who is this good man who is staring at me?”', '“Sire,” said M. Myriel, “you are looking at a good man, and I at a great man. Each of us can profit by it.”', 'That very evening, the Emperor asked the Cardinal the name of the Curé, and some time afterwards M. Myriel was utterly astonished to learn that he had been appointed Bishop of D——', 'What truth was there, after all, in the stories which were invented as to the early portion of M. Myriel’s life? No one knew. Very few families had been acquainted with the Myriel family before the Revolution.', 'M. Myriel had to undergo the fate of every newcomer in a little town, where there are many mouths which talk, and very few heads which think. He was obliged to undergo it although he was a bishop, and because he was a bishop. But after all, the rumors with which his name was connected were rumors only,—noise, sayings, words; less than words—palabres, as the energetic language of the South expresses it.', 'However that may be, after nine years of episcopal power and of residence in D——, all the stories and subjects of conversation which engross petty towns and petty people at the outset had fallen into profound oblivion. No one would have dared to mention them; no one would have dared to recall them.', 'M. Myriel had arrived at D—— accompanied by an elderly spinster, Mademoiselle Baptistine, who was his sister, and ten years his junior.', 'Their only domestic was a female servant of the same age as Mademoiselle Baptistine, and named Madame Magloire, who, after having been the servant of M. le Curé, now assumed the double title of maid to Mademoiselle and housekeeper to Monseigneur.', 'Mademoiselle Baptistine was a long, pale, thin, gentle creature; she realized the ideal expressed by the word “respectable”; for it seems that a woman must needs be a mother in order to be venerable. She had never been pretty; her whole life, which had been nothing but a succession of holy deeds, had finally conferred upon her a sort of pallor and transparency; and as she advanced in years she had acquired what may be called the beauty of goodness. What had been leanness in her youth had become transparency in her maturity; and this diaphaneity allowed the angel to be seen. She was a soul rather than a virgin. Her person seemed made of a shadow; there was hardly sufficient body to provide for sex; a little matter enclosing a light; large eyes forever drooping;—a mere pretext for a soul’s remaining on the earth.', 'Madame Magloire was a little, fat, white old woman, corpulent and bustling; always out of breath,—in the first place, because of her activity, and in the next, because of her asthma.', 'On his arrival, M. Myriel was installed in the episcopal palace with the honors required by the Imperial decrees, which class a bishop immediately after a major-general. The mayor and the president paid the first call on him, and he, in turn, paid the first call on the general and the prefect.', 'The installation over, the town waited to see its bishop at work.', {'role': 'user', 'content': '첫 문단 읽어줘\\n'}, {'role': 'assistant', 'content': 'LES MISÉRABLES\\nPREFACE\\n\"법과 관습의 힘으로 인해 사회가 선고하는 저주의 판결, 인공적으로 지구의 문명 속에 지옥을 만들어내고, 신의 운명에 인간의 운명 요소를 더하고 있는 한; 세기의 세 가지 큰 문제—가난으로 인한 인간의 퇴화, 배고픔으로 인한 여성의 부패, 빛의 부족으로 인한 아이들의 저하—가 해결되지 않은 한; 세계의 어느 곳에서든 사회적 질식이 가능한 한;—다시 말해, 그 의미가 더 넓게 보면, 지구상에 무지와 빈곤이 존재하는 한, Les Misérables와 같은 성격의 책들은 유용하지 않을 수 없다.\" : 중립'}, {'role': 'user', 'content': '다음'}, {'role': 'assistant', 'content': 'HAUTEVILLE HOUSE, 1862.'}, {'role': 'user', 'content': '이 책의 주인공은 누구야?\\n'}, {'role': 'assistant', 'content': '이 서사시의 주인공은 Jean Valjean이라고 하네. 그는 가난과 불행 속에서도 자신의 양심을 지키려 노력하는 인물이라네.'}, {'role': 'user', 'content': '이 챕터의 주인공은 누구야?'}, {'role': 'assistant', 'content': '이 챕터에서는 주로 M. Charles-François-Bienvenu Myriel 주교에 대해 이야기하고 있네. 그는 D——의 주교로, 고령이지만 매우 성실하게 살아가고 있어.'}, {'role': 'user', 'content': 'M. Charles-François-Bienvenu Myriel 주교의 성격을 알려줘'}, {'role': 'assistant', 'content': 'M. Myriel 주교는 매우 선량하고 인자한 분이라네. 그는 자신을 위해 살기보다는 타인을 위해 살려고 노력하는 인물이네. 그의 삶은 남을 돕는데 헌신적으로 바쳐져 있어, 그의 인자함과 선행은 주변 사람들에게 큰 영향을 미치고 있단다.'}]\n",
      "[('M. Charles-François-Bienvenu Myriel 주교의 성격을 알려줘', 'M. Myriel 주교는 매우 선량하고 인자한 분이라네. 그는 자신을 위해 살기보다는 타인을 위해 살려고 노력하는 인물이네. 그의 삶은 남을 돕는데 헌신적으로 바쳐져 있어, 그의 인자함과 선행은 주변 사람들에게 큰 영향을 미치고 있단다.')]\n"
     ]
    },
    {
     "name": "stderr",
     "output_type": "stream",
     "text": [
      "c:\\Users\\Admin\\miniconda3\\envs\\gumi_env310\\lib\\site-packages\\gradio\\helpers.py:978: UserWarning: Unexpected argument. Filling with None.\n",
      "  warnings.warn(\"Unexpected argument. Filling with None.\")\n"
     ]
    },
    {
     "name": "stdout",
     "output_type": "stream",
     "text": [
      "['LES MISÉRABLES\\nPREFACE\\nSo long as there shall exist, by virtue of law and custom, decrees of damnation pronounced by society, artificially creating hells amid the civilization of earth, and adding the element of human fate to divine destiny; so long as the three great problems of the century—the degradation of man through pauperism, the corruption of woman through hunger, the crippling of children through lack of light—are unsolved; so long as social asphyxia is possible in any part of the world;—in other words, and with a still wider significance, so long as ignorance and poverty exist on earth, books of the nature of Les Misérables cannot fail to be of use.', 'HAUTEVILLE HOUSE, 1862.', 'VOLUME I\\nFANTINE\\nBOOK FIRST—A JUST MAN\\nCHAPTER I—M. MYRIEL\\nIn 1815, M. Charles-François-Bienvenu Myriel was Bishop of D—— He was an old man of about seventy-five years of age; he had occupied the see of D—— since 1806.', 'Although this detail has no connection whatever with the real substance of what we are about to relate, it will not be superfluous, if merely for the sake of exactness in all points, to mention here the various rumors and remarks which had been in circulation about him from the very moment when he arrived in the diocese. True or false, that which is said of men often occupies as important a place in their lives, and above all in their destinies, as that which they do. M. Myriel was the son of a councillor of the Parliament of Aix; hence he belonged to the nobility of the bar. It was said that his father, destining him to be the heir of his own post, had married him at a very early age, eighteen or twenty, in accordance with a custom which is rather widely prevalent in parliamentary families. In spite of this marriage, however, it was said that Charles Myriel created a great deal of talk. He was well formed, though rather short in stature, elegant, graceful, intelligent; the whole of the first portion of his life had been devoted to the world and to gallantry.', 'The Revolution came; events succeeded each other with precipitation; the parliamentary families, decimated, pursued, hunted down, were dispersed. M. Charles Myriel emigrated to Italy at the very beginning of the Revolution. There his wife died of a malady of the chest, from which she had long suffered. He had no children. What took place next in the fate of M. Myriel? The ruin of the French society of the olden days, the fall of his own family, the tragic spectacles of ’93, which were, perhaps, even more alarming to the emigrants who viewed them from a distance, with the magnifying powers of terror,—did these cause the ideas of renunciation and solitude to germinate in him? Was he, in the midst of these distractions, these affections which absorbed his life, suddenly smitten with one of those mysterious and terrible blows which sometimes overwhelm, by striking to his heart, a man whom public catastrophes would not shake, by striking at his existence and his fortune? No one could have told: all that was known was, that when he returned from Italy he was a priest.', 'In 1804, M. Myriel was the Curé of B—— [Brignolles]. He was already advanced in years, and lived in a very retired manner.', 'About the epoch of the coronation, some petty affair connected with his curacy—just what, is not precisely known—took him to Paris. Among other powerful persons to whom he went to solicit aid for his parishioners was M. le Cardinal Fesch. One day, when the Emperor had come to visit his uncle, the worthy Curé, who was waiting in the anteroom, found himself present when His Majesty passed. Napoleon, on finding himself observed with a certain curiosity by this old man, turned round and said abruptly:—', '“Who is this good man who is staring at me?”', '“Sire,” said M. Myriel, “you are looking at a good man, and I at a great man. Each of us can profit by it.”', 'That very evening, the Emperor asked the Cardinal the name of the Curé, and some time afterwards M. Myriel was utterly astonished to learn that he had been appointed Bishop of D——', 'What truth was there, after all, in the stories which were invented as to the early portion of M. Myriel’s life? No one knew. Very few families had been acquainted with the Myriel family before the Revolution.', 'M. Myriel had to undergo the fate of every newcomer in a little town, where there are many mouths which talk, and very few heads which think. He was obliged to undergo it although he was a bishop, and because he was a bishop. But after all, the rumors with which his name was connected were rumors only,—noise, sayings, words; less than words—palabres, as the energetic language of the South expresses it.', 'However that may be, after nine years of episcopal power and of residence in D——, all the stories and subjects of conversation which engross petty towns and petty people at the outset had fallen into profound oblivion. No one would have dared to mention them; no one would have dared to recall them.', 'M. Myriel had arrived at D—— accompanied by an elderly spinster, Mademoiselle Baptistine, who was his sister, and ten years his junior.', 'Their only domestic was a female servant of the same age as Mademoiselle Baptistine, and named Madame Magloire, who, after having been the servant of M. le Curé, now assumed the double title of maid to Mademoiselle and housekeeper to Monseigneur.', 'Mademoiselle Baptistine was a long, pale, thin, gentle creature; she realized the ideal expressed by the word “respectable”; for it seems that a woman must needs be a mother in order to be venerable. She had never been pretty; her whole life, which had been nothing but a succession of holy deeds, had finally conferred upon her a sort of pallor and transparency; and as she advanced in years she had acquired what may be called the beauty of goodness. What had been leanness in her youth had become transparency in her maturity; and this diaphaneity allowed the angel to be seen. She was a soul rather than a virgin. Her person seemed made of a shadow; there was hardly sufficient body to provide for sex; a little matter enclosing a light; large eyes forever drooping;—a mere pretext for a soul’s remaining on the earth.', 'Madame Magloire was a little, fat, white old woman, corpulent and bustling; always out of breath,—in the first place, because of her activity, and in the next, because of her asthma.', 'On his arrival, M. Myriel was installed in the episcopal palace with the honors required by the Imperial decrees, which class a bishop immediately after a major-general. The mayor and the president paid the first call on him, and he, in turn, paid the first call on the general and the prefect.', 'The installation over, the town waited to see its bishop at work.', {'role': 'user', 'content': '첫 문단 읽어줘\\n'}, {'role': 'assistant', 'content': 'LES MISÉRABLES\\nPREFACE\\n\"법과 관습의 힘으로 인해 사회가 선고하는 저주의 판결, 인공적으로 지구의 문명 속에 지옥을 만들어내고, 신의 운명에 인간의 운명 요소를 더하고 있는 한; 세기의 세 가지 큰 문제—가난으로 인한 인간의 퇴화, 배고픔으로 인한 여성의 부패, 빛의 부족으로 인한 아이들의 저하—가 해결되지 않은 한; 세계의 어느 곳에서든 사회적 질식이 가능한 한;—다시 말해, 그 의미가 더 넓게 보면, 지구상에 무지와 빈곤이 존재하는 한, Les Misérables와 같은 성격의 책들은 유용하지 않을 수 없다.\" : 중립'}, {'role': 'user', 'content': '다음'}, {'role': 'assistant', 'content': 'HAUTEVILLE HOUSE, 1862.'}, {'role': 'user', 'content': '이 책의 주인공은 누구야?\\n'}, {'role': 'assistant', 'content': '이 서사시의 주인공은 Jean Valjean이라고 하네. 그는 가난과 불행 속에서도 자신의 양심을 지키려 노력하는 인물이라네.'}, {'role': 'user', 'content': '이 챕터의 주인공은 누구야?'}, {'role': 'assistant', 'content': '이 챕터에서는 주로 M. Charles-François-Bienvenu Myriel 주교에 대해 이야기하고 있네. 그는 D——의 주교로, 고령이지만 매우 성실하게 살아가고 있어.'}, {'role': 'user', 'content': 'M. Charles-François-Bienvenu Myriel 주교의 성격을 알려줘'}, {'role': 'assistant', 'content': 'M. Myriel 주교는 매우 선량하고 인자한 분이라네. 그는 자신을 위해 살기보다는 타인을 위해 살려고 노력하는 인물이네. 그의 삶은 남을 돕는데 헌신적으로 바쳐져 있어, 그의 인자함과 선행은 주변 사람들에게 큰 영향을 미치고 있단다.'}, {'role': 'user', 'content': '내가 앞에 했던 질문이 뭐였지?'}, {'role': 'assistant', 'content': '네가 앞서 물었던 질문은 \"M. Charles-François-Bienvenu Myriel 주교의 성격을 알려줘\"였네.'}]\n",
      "[('내가 앞에 했던 질문이 뭐였지?', '네가 앞서 물었던 질문은 \"M. Charles-François-Bienvenu Myriel 주교의 성격을 알려줘\"였네.')]\n"
     ]
    },
    {
     "name": "stderr",
     "output_type": "stream",
     "text": [
      "c:\\Users\\Admin\\miniconda3\\envs\\gumi_env310\\lib\\site-packages\\gradio\\helpers.py:978: UserWarning: Unexpected argument. Filling with None.\n",
      "  warnings.warn(\"Unexpected argument. Filling with None.\")\n"
     ]
    },
    {
     "name": "stdout",
     "output_type": "stream",
     "text": [
      "['LES MISÉRABLES\\nPREFACE\\nSo long as there shall exist, by virtue of law and custom, decrees of damnation pronounced by society, artificially creating hells amid the civilization of earth, and adding the element of human fate to divine destiny; so long as the three great problems of the century—the degradation of man through pauperism, the corruption of woman through hunger, the crippling of children through lack of light—are unsolved; so long as social asphyxia is possible in any part of the world;—in other words, and with a still wider significance, so long as ignorance and poverty exist on earth, books of the nature of Les Misérables cannot fail to be of use.', 'HAUTEVILLE HOUSE, 1862.', 'VOLUME I\\nFANTINE\\nBOOK FIRST—A JUST MAN\\nCHAPTER I—M. MYRIEL\\nIn 1815, M. Charles-François-Bienvenu Myriel was Bishop of D—— He was an old man of about seventy-five years of age; he had occupied the see of D—— since 1806.', 'Although this detail has no connection whatever with the real substance of what we are about to relate, it will not be superfluous, if merely for the sake of exactness in all points, to mention here the various rumors and remarks which had been in circulation about him from the very moment when he arrived in the diocese. True or false, that which is said of men often occupies as important a place in their lives, and above all in their destinies, as that which they do. M. Myriel was the son of a councillor of the Parliament of Aix; hence he belonged to the nobility of the bar. It was said that his father, destining him to be the heir of his own post, had married him at a very early age, eighteen or twenty, in accordance with a custom which is rather widely prevalent in parliamentary families. In spite of this marriage, however, it was said that Charles Myriel created a great deal of talk. He was well formed, though rather short in stature, elegant, graceful, intelligent; the whole of the first portion of his life had been devoted to the world and to gallantry.', 'The Revolution came; events succeeded each other with precipitation; the parliamentary families, decimated, pursued, hunted down, were dispersed. M. Charles Myriel emigrated to Italy at the very beginning of the Revolution. There his wife died of a malady of the chest, from which she had long suffered. He had no children. What took place next in the fate of M. Myriel? The ruin of the French society of the olden days, the fall of his own family, the tragic spectacles of ’93, which were, perhaps, even more alarming to the emigrants who viewed them from a distance, with the magnifying powers of terror,—did these cause the ideas of renunciation and solitude to germinate in him? Was he, in the midst of these distractions, these affections which absorbed his life, suddenly smitten with one of those mysterious and terrible blows which sometimes overwhelm, by striking to his heart, a man whom public catastrophes would not shake, by striking at his existence and his fortune? No one could have told: all that was known was, that when he returned from Italy he was a priest.', 'In 1804, M. Myriel was the Curé of B—— [Brignolles]. He was already advanced in years, and lived in a very retired manner.', 'About the epoch of the coronation, some petty affair connected with his curacy—just what, is not precisely known—took him to Paris. Among other powerful persons to whom he went to solicit aid for his parishioners was M. le Cardinal Fesch. One day, when the Emperor had come to visit his uncle, the worthy Curé, who was waiting in the anteroom, found himself present when His Majesty passed. Napoleon, on finding himself observed with a certain curiosity by this old man, turned round and said abruptly:—', '“Who is this good man who is staring at me?”', '“Sire,” said M. Myriel, “you are looking at a good man, and I at a great man. Each of us can profit by it.”', 'That very evening, the Emperor asked the Cardinal the name of the Curé, and some time afterwards M. Myriel was utterly astonished to learn that he had been appointed Bishop of D——', 'What truth was there, after all, in the stories which were invented as to the early portion of M. Myriel’s life? No one knew. Very few families had been acquainted with the Myriel family before the Revolution.', 'M. Myriel had to undergo the fate of every newcomer in a little town, where there are many mouths which talk, and very few heads which think. He was obliged to undergo it although he was a bishop, and because he was a bishop. But after all, the rumors with which his name was connected were rumors only,—noise, sayings, words; less than words—palabres, as the energetic language of the South expresses it.', 'However that may be, after nine years of episcopal power and of residence in D——, all the stories and subjects of conversation which engross petty towns and petty people at the outset had fallen into profound oblivion. No one would have dared to mention them; no one would have dared to recall them.', 'M. Myriel had arrived at D—— accompanied by an elderly spinster, Mademoiselle Baptistine, who was his sister, and ten years his junior.', 'Their only domestic was a female servant of the same age as Mademoiselle Baptistine, and named Madame Magloire, who, after having been the servant of M. le Curé, now assumed the double title of maid to Mademoiselle and housekeeper to Monseigneur.', 'Mademoiselle Baptistine was a long, pale, thin, gentle creature; she realized the ideal expressed by the word “respectable”; for it seems that a woman must needs be a mother in order to be venerable. She had never been pretty; her whole life, which had been nothing but a succession of holy deeds, had finally conferred upon her a sort of pallor and transparency; and as she advanced in years she had acquired what may be called the beauty of goodness. What had been leanness in her youth had become transparency in her maturity; and this diaphaneity allowed the angel to be seen. She was a soul rather than a virgin. Her person seemed made of a shadow; there was hardly sufficient body to provide for sex; a little matter enclosing a light; large eyes forever drooping;—a mere pretext for a soul’s remaining on the earth.', 'Madame Magloire was a little, fat, white old woman, corpulent and bustling; always out of breath,—in the first place, because of her activity, and in the next, because of her asthma.', 'On his arrival, M. Myriel was installed in the episcopal palace with the honors required by the Imperial decrees, which class a bishop immediately after a major-general. The mayor and the president paid the first call on him, and he, in turn, paid the first call on the general and the prefect.', 'The installation over, the town waited to see its bishop at work.', {'role': 'user', 'content': '첫 문단 읽어줘\\n'}, {'role': 'assistant', 'content': 'LES MISÉRABLES\\nPREFACE\\n\"법과 관습의 힘으로 인해 사회가 선고하는 저주의 판결, 인공적으로 지구의 문명 속에 지옥을 만들어내고, 신의 운명에 인간의 운명 요소를 더하고 있는 한; 세기의 세 가지 큰 문제—가난으로 인한 인간의 퇴화, 배고픔으로 인한 여성의 부패, 빛의 부족으로 인한 아이들의 저하—가 해결되지 않은 한; 세계의 어느 곳에서든 사회적 질식이 가능한 한;—다시 말해, 그 의미가 더 넓게 보면, 지구상에 무지와 빈곤이 존재하는 한, Les Misérables와 같은 성격의 책들은 유용하지 않을 수 없다.\" : 중립'}, {'role': 'user', 'content': '다음'}, {'role': 'assistant', 'content': 'HAUTEVILLE HOUSE, 1862.'}, {'role': 'user', 'content': '이 책의 주인공은 누구야?\\n'}, {'role': 'assistant', 'content': '이 서사시의 주인공은 Jean Valjean이라고 하네. 그는 가난과 불행 속에서도 자신의 양심을 지키려 노력하는 인물이라네.'}, {'role': 'user', 'content': '이 챕터의 주인공은 누구야?'}, {'role': 'assistant', 'content': '이 챕터에서는 주로 M. Charles-François-Bienvenu Myriel 주교에 대해 이야기하고 있네. 그는 D——의 주교로, 고령이지만 매우 성실하게 살아가고 있어.'}, {'role': 'user', 'content': 'M. Charles-François-Bienvenu Myriel 주교의 성격을 알려줘'}, {'role': 'assistant', 'content': 'M. Myriel 주교는 매우 선량하고 인자한 분이라네. 그는 자신을 위해 살기보다는 타인을 위해 살려고 노력하는 인물이네. 그의 삶은 남을 돕는데 헌신적으로 바쳐져 있어, 그의 인자함과 선행은 주변 사람들에게 큰 영향을 미치고 있단다.'}, {'role': 'user', 'content': '내가 앞에 했던 질문이 뭐였지?'}, {'role': 'assistant', 'content': '네가 앞서 물었던 질문은 \"M. Charles-François-Bienvenu Myriel 주교의 성격을 알려줘\"였네.'}, {'role': 'user', 'content': '그 전 질문은?'}, {'role': 'assistant', 'content': '네가 그 전에 물었던 질문은 \"이 챕터의 주인공은 누구야?\"였네.'}]\n",
      "[('그 전 질문은?', '네가 그 전에 물었던 질문은 \"이 챕터의 주인공은 누구야?\"였네.')]\n",
      "Keyboard interruption in main thread... closing server.\n"
     ]
    },
    {
     "data": {
      "text/plain": []
     },
     "execution_count": 14,
     "metadata": {},
     "output_type": "execute_result"
    }
   ],
   "source": [
    "import gradio as gr\n",
    "\n",
    "# 프롬프트에 들어가야 하는 내용\n",
    "\n",
    "\n",
    "with gr.Blocks() as app:\n",
    "    with gr.Tab(\"음성 인식봇\"):\n",
    "        with gr.Column():\n",
    "            gr.Markdown(\n",
    "                value=\"\"\"\n",
    "<center><h1> 음성 인식 봇 </h1></center>\n",
    "<center> AI 인공지능 봇입니다. 음성으로 묻거나 문서 요약, 일정 관리 등을 할 수 있습니다.</center>\n",
    "\"\"\"\n",
    "            )\n",
    "            cb_chatbot = gr.Chatbot(\n",
    "                value=[[None, \"안녕하세요 AI 챗봇입니다. 무엇이든 질문하세요\"],\n",
    "                       ],\n",
    "                label=\"구미챗봇\",\n",
    "            )\n",
    "        with gr.Row():\n",
    "            cb_textbox = gr.Textbox(\n",
    "                lines=3,\n",
    "                placeholder=\"입력창입니다.\",\n",
    "                container=False,\n",
    "                scale=7\n",
    "            ) # 채팅 입력\n",
    "\n",
    "            gr.Audio(\n",
    "                format=\"mp3\",\n",
    "                scale=1,\n",
    "                min_width=200,\n",
    "                label=\"음성을 입력해주세요\"\n",
    "            ) # 음성 입력\n",
    "\n",
    "            cb_send_btn = gr.Button(\n",
    "                value=\"보내기\",\n",
    "                visible=\"primary\",\n",
    "                scale=1\n",
    "            ) # 실행 버튼\n",
    "            \n",
    "            file_upload = gr.File(\n",
    "                label=\"txt 파일을 업로드해주세요\",\n",
    "                type=\"filepath\"\n",
    "            ) # 파일 업로드\n",
    "\n",
    "        with gr.Row():\n",
    "            gr.Button(\n",
    "                value=\"되돌리기\"\n",
    "            )\n",
    "            gr.Button(\n",
    "                value=\"초기화\"\n",
    "            )\n",
    "        \n",
    "        # 텍스트 입력 처리\n",
    "        cb_send_btn.click(\n",
    "            fn=chatbot_send_message,\n",
    "            inputs=[cb_chatbot, cb_textbox],\n",
    "            outputs=[cb_chatbot, cb_textbox]\n",
    "        )\n",
    "        \n",
    "        # 파일 업로드 처리\n",
    "        file_upload.change(\n",
    "            fn= chatbot_send_file,\n",
    "            inputs = [cb_chatbot,file_upload],#입력값 전달될 것 \n",
    "            outputs=[cb_chatbot]#출력값 들어갈 곳\n",
    "        )\n",
    "\n",
    "    with gr.Tab(\"문서 요약봇\"):\n",
    "        pass\n",
    "    with gr.Tab(\"일정 관리봇\"):\n",
    "        pass\n",
    "\n",
    "app.launch(debug=True)"
   ]
  },
  {
   "cell_type": "code",
   "execution_count": null,
   "metadata": {},
   "outputs": [
    {
     "name": "stdout",
     "output_type": "stream",
     "text": [
      "Running on local URL:  http://127.0.0.1:7860\n",
      "\n",
      "To create a public link, set `share=True` in `launch()`.\n"
     ]
    },
    {
     "data": {
      "text/html": [
       "<div><iframe src=\"http://127.0.0.1:7860/\" width=\"100%\" height=\"500\" allow=\"autoplay; camera; microphone; clipboard-read; clipboard-write;\" frameborder=\"0\" allowfullscreen></iframe></div>"
      ],
      "text/plain": [
       "<IPython.core.display.HTML object>"
      ]
     },
     "metadata": {},
     "output_type": "display_data"
    },
    {
     "name": "stdout",
     "output_type": "stream",
     "text": [
      "Keyboard interruption in main thread... closing server.\n"
     ]
    },
    {
     "data": {
      "text/plain": []
     },
     "execution_count": 21,
     "metadata": {},
     "output_type": "execute_result"
    }
   ],
   "source": [
    "import gradio as gr\n",
    "import shutil\n",
    "\n",
    "def save_file(file):\n",
    "    if file is not None:\n",
    "        # file 은 임시 저장 결로를 나타내는 듯\n",
    "        shutil.copy(file, \"save_file.txt\")\n",
    "\n",
    "with gr.Blocks() as app:\n",
    "    file_input = gr.File(label=\"업로드 파일\")\n",
    "    send_btn = gr.Button(\"파일 저장하기\")\n",
    "\n",
    "    send_btn.click(fn=save_file, inputs=file_input, outputs=None)\n",
    "\n",
    "app.launch(debug=True)"
   ]
  },
  {
   "cell_type": "code",
   "execution_count": null,
   "metadata": {},
   "outputs": [],
   "source": []
  }
 ],
 "metadata": {
  "kernelspec": {
   "display_name": "gumi_env310",
   "language": "python",
   "name": "python3"
  },
  "language_info": {
   "codemirror_mode": {
    "name": "ipython",
    "version": 3
   },
   "file_extension": ".py",
   "mimetype": "text/x-python",
   "name": "python",
   "nbconvert_exporter": "python",
   "pygments_lexer": "ipython3",
   "version": "3.10.14"
  }
 },
 "nbformat": 4,
 "nbformat_minor": 2
}
