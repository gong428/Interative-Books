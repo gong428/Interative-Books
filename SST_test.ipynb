{
 "cells": [
  {
   "cell_type": "code",
   "execution_count": 1,
   "metadata": {},
   "outputs": [],
   "source": [
    "import gradio as gr\n",
    "import whisper\n",
    "\n",
    "# Whisper 모델 로드\n",
    "model = whisper.load_model(\"base\")\n",
    "\n",
    "def transcribe_audio(audio_file):\n",
    "    # Whisper 모델을 사용하여 음성을 텍스트로 변환\n",
    "    result = model.transcribe(audio_file)\n",
    "    recognized_text = result[\"text\"]\n",
    "    \n",
    "    # 오디오 파일을 로드하고 로그 멜 스펙트로그램 생성\n",
    "    audio = whisper.load_audio(audio_file)\n",
    "    audio = whisper.pad_or_trim(audio)\n",
    "    mel = whisper.log_mel_spectrogram(audio).to(model.device)\n",
    "    \n",
    "    # 언어 감지\n",
    "    _, probs = model.detect_language(mel)\n",
    "    detected_language "
   ]
  },
  {
   "cell_type": "code",
   "execution_count": null,
   "metadata": {},
   "outputs": [],
   "source": [
    "import gradio as gr\n",
    "import whisper\n",
    "\n",
    "# Whisper 모델 로드\n",
    "model = whisper.load_model(\"base\")\n",
    "\n",
    "def transcribe_audio(audio_file):\n",
    "    # Whisper 모델을 사용하여 음성을 텍스트로 변환\n",
    "    result = model.transcribe(audio_file)\n",
    "    recognized_text = result[\"text\"]\n",
    "    \n",
    "    # 오디오 파일을 로드하고 로그 멜 스펙트로그램 생성\n",
    "    audio = whisper.load_audio(audio_file)\n",
    "    audio = whisper.pad_or_trim(audio)\n",
    "    mel = whisper.log_mel_spectrogram(audio).to(model.device)\n",
    "    \n",
    "    # 언어 감지\n",
    "    _, probs = model.detect_language(mel)\n",
    "    detected_language "
   ]
  },
  {
   "cell_type": "code",
   "execution_count": null,
   "metadata": {},
   "outputs": [],
   "source": []
  }
 ],
 "metadata": {
  "kernelspec": {
   "display_name": "gumi_env310",
   "language": "python",
   "name": "python3"
  },
  "language_info": {
   "codemirror_mode": {
    "name": "ipython",
    "version": 3
   },
   "file_extension": ".py",
   "mimetype": "text/x-python",
   "name": "python",
   "nbconvert_exporter": "python",
   "pygments_lexer": "ipython3",
   "version": "3.10.14"
  }
 },
 "nbformat": 4,
 "nbformat_minor": 2
}
