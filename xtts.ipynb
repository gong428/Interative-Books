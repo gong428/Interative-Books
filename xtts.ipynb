{
 "cells": [
  {
   "cell_type": "code",
   "execution_count": 4,
   "metadata": {},
   "outputs": [],
   "source": [
    "import torch\n",
    "from TTS.api import TTS\n"
   ]
  },
  {
   "cell_type": "code",
   "execution_count": 7,
   "metadata": {},
   "outputs": [
    {
     "name": "stdout",
     "output_type": "stream",
     "text": [
      "<TTS.utils.manage.ModelManager object at 0x0000020371B868F0>\n",
      " > You must confirm the following:\n",
      " | > \"I have purchased a commercial license from Coqui: licensing@coqui.ai\"\n",
      " | > \"Otherwise, I agree to the terms of the non-commercial CPML: https://coqui.ai/cpml\" - [y/n]\n",
      " > Downloading model to C:\\Users\\Admin\\AppData\\Local\\tts\\tts_models--multilingual--multi-dataset--xtts_v2\n"
     ]
    },
    {
     "name": "stderr",
     "output_type": "stream",
     "text": [
      "100%|██████████| 1.87G/1.87G [00:35<00:00, 53.0MiB/s]\n",
      "100%|██████████| 4.37k/4.37k [00:00<00:00, 9.10kiB/s]\n",
      "100%|██████████| 361k/361k [00:00<00:00, 543kiB/s] \n",
      "100%|██████████| 32.0/32.0 [00:00<00:00, 44.9iB/s]\n",
      " 94%|█████████▎| 7.26M/7.75M [00:00<00:00, 26.9MiB/s]"
     ]
    },
    {
     "name": "stdout",
     "output_type": "stream",
     "text": [
      " > Model's license - CPML\n",
      " > Check https://coqui.ai/cpml.txt for more info.\n",
      " > Using model: xtts\n"
     ]
    },
    {
     "name": "stderr",
     "output_type": "stream",
     "text": [
      "100%|██████████| 7.75M/7.75M [00:12<00:00, 26.9MiB/s]"
     ]
    }
   ],
   "source": [
    "\n",
    "# Get device\n",
    "device = \"cuda\" if torch.cuda.is_available() else \"cpu\"\n",
    "\n",
    "# List available 🐸TTS models\n",
    "print(TTS().list_models())\n",
    "\n",
    "# Init TTS\n",
    "tts = TTS(\"tts_models/multilingual/multi-dataset/xtts_v2\").to(device)\n"
   ]
  },
  {
   "cell_type": "code",
   "execution_count": 6,
   "metadata": {},
   "outputs": [
    {
     "ename": "NameError",
     "evalue": "name 'tts' is not defined",
     "output_type": "error",
     "traceback": [
      "\u001b[1;31m---------------------------------------------------------------------------\u001b[0m",
      "\u001b[1;31mNameError\u001b[0m                                 Traceback (most recent call last)",
      "Cell \u001b[1;32mIn[6], line 4\u001b[0m\n\u001b[0;32m      1\u001b[0m \u001b[38;5;66;03m# Run TTS\u001b[39;00m\n\u001b[0;32m      2\u001b[0m \u001b[38;5;66;03m# ❗ Since this model is multi-lingual voice cloning model, we must set the target speaker_wav and language\u001b[39;00m\n\u001b[0;32m      3\u001b[0m \u001b[38;5;66;03m# Text to speech list of amplitude values as output\u001b[39;00m\n\u001b[1;32m----> 4\u001b[0m wav \u001b[38;5;241m=\u001b[39m \u001b[43mtts\u001b[49m\u001b[38;5;241m.\u001b[39mtts(text\u001b[38;5;241m=\u001b[39m\u001b[38;5;124m\"\u001b[39m\u001b[38;5;124m장발장, 당신은 더 이상 악한 사람이 아닙니다. 나는 당신의 영혼을 샀습니다. 나는 그것을 하나님께 바쳤습니다. 이제 당신은 선한 사람이 되어야 합니다.\u001b[39m\u001b[38;5;124m\"\u001b[39m,\n\u001b[0;32m      5\u001b[0m                speaker_wav\u001b[38;5;241m=\u001b[39m\u001b[38;5;124m\"\u001b[39m\u001b[38;5;124mmy/cloning/미리엘_클로버.mp3\u001b[39m\u001b[38;5;124m\"\u001b[39m, language\u001b[38;5;241m=\u001b[39m\u001b[38;5;124m\"\u001b[39m\u001b[38;5;124mko\u001b[39m\u001b[38;5;124m\"\u001b[39m)\n\u001b[0;32m      6\u001b[0m \u001b[38;5;66;03m# Text to speech to a file\u001b[39;00m\n",
      "\u001b[1;31mNameError\u001b[0m: name 'tts' is not defined"
     ]
    }
   ],
   "source": [
    "\n",
    "# Run TTS\n",
    "# ❗ Since this model is multi-lingual voice cloning model, we must set the target speaker_wav and language\n",
    "# Text to speech list of amplitude values as output\n",
    "wav = tts.tts(text=\"장발장, 당신은 더 이상 악한 사람이 아닙니다. 나는 당신의 영혼을 샀습니다. 나는 그것을 하나님께 바쳤습니다. 이제 당신은 선한 사람이 되어야 합니다.\",\n",
    "               speaker_wav=\"my/cloning/미리엘_클로버.mp3\", language=\"ko\")\n",
    "# Text to speech to a file\n"
   ]
  },
  {
   "cell_type": "code",
   "execution_count": null,
   "metadata": {},
   "outputs": [],
   "source": [
    "tts.tts_to_file(text=\"장발장, 당신은 더 이상 악한 사람이 아닙니다. 나는 당신의 영혼을 샀습니다. 나는 그것을 하나님께 바쳤습니다. 이제 당신은 선한 사람이 되어야 합니다.\",\n",
    "                 speaker_wav=\"my/cloning/미리엘_클로버.mp3\", language=\"ko\", file_path=\"output.wav\")"
   ]
  }
 ],
 "metadata": {
  "kernelspec": {
   "display_name": "gumi_env310",
   "language": "python",
   "name": "python3"
  },
  "language_info": {
   "codemirror_mode": {
    "name": "ipython",
    "version": 3
   },
   "file_extension": ".py",
   "mimetype": "text/x-python",
   "name": "python",
   "nbconvert_exporter": "python",
   "pygments_lexer": "ipython3",
   "version": "3.10.14"
  }
 },
 "nbformat": 4,
 "nbformat_minor": 2
}
