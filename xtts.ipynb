{
 "cells": [
  {
   "cell_type": "code",
   "execution_count": 4,
   "metadata": {},
   "outputs": [],
   "source": [
    "import torch\n",
    "from TTS.api import TTS\n"
   ]
  },
  {
   "cell_type": "code",
   "execution_count": 7,
   "metadata": {},
   "outputs": [
    {
     "name": "stdout",
     "output_type": "stream",
     "text": [
      "<TTS.utils.manage.ModelManager object at 0x0000020371B868F0>\n",
      " > You must confirm the following:\n",
      " | > \"I have purchased a commercial license from Coqui: licensing@coqui.ai\"\n",
      " | > \"Otherwise, I agree to the terms of the non-commercial CPML: https://coqui.ai/cpml\" - [y/n]\n",
      " > Downloading model to C:\\Users\\Admin\\AppData\\Local\\tts\\tts_models--multilingual--multi-dataset--xtts_v2\n"
     ]
    },
    {
     "name": "stderr",
     "output_type": "stream",
     "text": [
      "100%|██████████| 1.87G/1.87G [00:35<00:00, 53.0MiB/s]\n",
      "100%|██████████| 4.37k/4.37k [00:00<00:00, 9.10kiB/s]\n",
      "100%|██████████| 361k/361k [00:00<00:00, 543kiB/s] \n",
      "100%|██████████| 32.0/32.0 [00:00<00:00, 44.9iB/s]\n",
      " 94%|█████████▎| 7.26M/7.75M [00:00<00:00, 26.9MiB/s]"
     ]
    },
    {
     "name": "stdout",
     "output_type": "stream",
     "text": [
      " > Model's license - CPML\n",
      " > Check https://coqui.ai/cpml.txt for more info.\n",
      " > Using model: xtts\n"
     ]
    },
    {
     "name": "stderr",
     "output_type": "stream",
     "text": [
      "100%|██████████| 7.75M/7.75M [00:12<00:00, 26.9MiB/s]"
     ]
    }
   ],
   "source": [
    "\n",
    "# Get device\n",
    "device = \"cuda\" if torch.cuda.is_available() else \"cpu\"\n",
    "\n",
    "# List available 🐸TTS models\n",
    "print(TTS().list_models())\n",
    "\n",
    "# Init TTS\n",
    "tts = TTS(\"tts_models/multilingual/multi-dataset/xtts_v2\").to(device)\n"
   ]
  },
  {
   "cell_type": "code",
   "execution_count": 8,
   "metadata": {},
   "outputs": [
    {
     "name": "stdout",
     "output_type": "stream",
     "text": [
      " > Text splitted to sentences.\n",
      "['장발장, 당신은 더 이상 악한 사람이 아닙니다.', '나는 당신의 영혼을 샀습니다.', '나는 그것을 하나님께 바쳤습니다.', '이제 당신은 선한 사람이 되어야 합니다.']\n"
     ]
    },
    {
     "name": "stderr",
     "output_type": "stream",
     "text": [
      "The attention mask is not set and cannot be inferred from input because pad token is same as eos token.As a consequence, you may observe unexpected behavior. Please pass your input's `attention_mask` to obtain reliable results.\n",
      "c:\\Users\\Admin\\miniconda3\\envs\\gumi_env310\\lib\\site-packages\\transformers\\models\\gpt2\\modeling_gpt2.py:544: UserWarning: 1Torch was not compiled with flash attention. (Triggered internally at ..\\aten\\src\\ATen\\native\\transformers\\cuda\\sdp_utils.cpp:455.)\n",
      "  attn_output = torch.nn.functional.scaled_dot_product_attention(\n"
     ]
    },
    {
     "name": "stdout",
     "output_type": "stream",
     "text": [
      " > Processing time: 15.269226312637329\n",
      " > Real-time factor: 0.5118931232875187\n"
     ]
    }
   ],
   "source": [
    "\n",
    "# Run TTS\n",
    "# ❗ Since this model is multi-lingual voice cloning model, we must set the target speaker_wav and language\n",
    "# Text to speech list of amplitude values as output\n",
    "wav = tts.tts(text=\"장발장, 당신은 더 이상 악한 사람이 아닙니다. 나는 당신의 영혼을 샀습니다. 나는 그것을 하나님께 바쳤습니다. 이제 당신은 선한 사람이 되어야 합니다.\",\n",
    "               speaker_wav=\"mp3_raw/미리엘_클로버.mp3\", language=\"ko\")\n",
    "# Text to speech to a file\n"
   ]
  },
  {
   "cell_type": "code",
   "execution_count": 11,
   "metadata": {},
   "outputs": [
    {
     "name": "stdout",
     "output_type": "stream",
     "text": [
      " > Text splitted to sentences.\n",
      "['이게 누구시죠, 저를 쳐다보고 있는 이 선량한 사람은?']\n",
      " > Processing time: 3.1566522121429443\n",
      " > Real-time factor: 0.43084691788248936\n"
     ]
    },
    {
     "data": {
      "text/plain": [
       "'mp3_make/output.wav'"
      ]
     },
     "execution_count": 11,
     "metadata": {},
     "output_type": "execute_result"
    }
   ],
   "source": [
    "tts.tts_to_file(text=\"이게 누구시죠, 저를 쳐다보고 있는 이 선량한 사람은?\",\n",
    "                 speaker_wav=\"mp3_raw/미리엘_클로버.mp3\", language=\"ko\", file_path=\"mp3_make/output.wav\")"
   ]
  },
  {
   "cell_type": "code",
   "execution_count": 22,
   "metadata": {},
   "outputs": [
    {
     "name": "stdout",
     "output_type": "stream",
     "text": [
      "Running on local URL:  http://127.0.0.1:7880\n",
      "\n",
      "To create a public link, set `share=True` in `launch()`.\n"
     ]
    },
    {
     "data": {
      "text/html": [
       "<div><iframe src=\"http://127.0.0.1:7880/\" width=\"100%\" height=\"500\" allow=\"autoplay; camera; microphone; clipboard-read; clipboard-write;\" frameborder=\"0\" allowfullscreen></iframe></div>"
      ],
      "text/plain": [
       "<IPython.core.display.HTML object>"
      ]
     },
     "metadata": {},
     "output_type": "display_data"
    },
    {
     "data": {
      "text/plain": []
     },
     "execution_count": 22,
     "metadata": {},
     "output_type": "execute_result"
    }
   ],
   "source": [
    "import gradio as gr\n",
    "\n",
    "# 사용자 입력을 처리하는 함수\n",
    "def process_input(text, audio):\n",
    "    # 텍스트와 오디오 파일을 채팅창에 출력\n",
    "    return [(text, None), (None, gr.Audio(audio))]\n",
    "\n",
    "# Gradio 인터페이스 구성\n",
    "with gr.Blocks() as demo:\n",
    "    gr.Markdown(\"## 구미챗봇\")\n",
    "    \n",
    "    # 챗봇 출력창\n",
    "    chatbot = gr.Chatbot(label=\"구미챗봇\")\n",
    "    \n",
    "    # 텍스트 입력 박스\n",
    "    text_input = gr.Textbox(label=\"사용자 메시지 입력\")\n",
    "    \n",
    "    # 음성 파일 입력 박스\n",
    "    audio_input = gr.Audio(sources=\"upload\", type=\"filepath\", label=\"음성 파일을 업로드하세요\")\n",
    "    \n",
    "    # 입력을 제출하는 버튼\n",
    "    submit_btn = gr.Button(\"제출\")\n",
    "    \n",
    "    # 버튼 클릭 시 process_input 함수 호출\n",
    "    submit_btn.click(process_input, inputs=[text_input, audio_input], outputs=chatbot)\n",
    "\n",
    "# 인터페이스 실행\n",
    "demo.launch()\n"
   ]
  },
  {
   "cell_type": "code",
   "execution_count": 34,
   "metadata": {},
   "outputs": [
    {
     "name": "stdout",
     "output_type": "stream",
     "text": [
      "Running on local URL:  http://127.0.0.1:7881\n",
      "\n",
      "To create a public link, set `share=True` in `launch()`.\n"
     ]
    },
    {
     "data": {
      "text/html": [
       "<div><iframe src=\"http://127.0.0.1:7881/\" width=\"100%\" height=\"500\" allow=\"autoplay; camera; microphone; clipboard-read; clipboard-write;\" frameborder=\"0\" allowfullscreen></iframe></div>"
      ],
      "text/plain": [
       "<IPython.core.display.HTML object>"
      ]
     },
     "metadata": {},
     "output_type": "display_data"
    },
    {
     "name": "stderr",
     "output_type": "stream",
     "text": [
      "Traceback (most recent call last):\n",
      "  File \"c:\\Users\\Admin\\miniconda3\\envs\\gumi_env310\\lib\\site-packages\\gradio\\queueing.py\", line 536, in process_events\n",
      "    response = await route_utils.call_process_api(\n",
      "  File \"c:\\Users\\Admin\\miniconda3\\envs\\gumi_env310\\lib\\site-packages\\gradio\\route_utils.py\", line 288, in call_process_api\n",
      "    output = await app.get_blocks().process_api(\n",
      "  File \"c:\\Users\\Admin\\miniconda3\\envs\\gumi_env310\\lib\\site-packages\\gradio\\blocks.py\", line 1931, in process_api\n",
      "    result = await self.call_function(\n",
      "  File \"c:\\Users\\Admin\\miniconda3\\envs\\gumi_env310\\lib\\site-packages\\gradio\\blocks.py\", line 1516, in call_function\n",
      "    prediction = await anyio.to_thread.run_sync(  # type: ignore\n",
      "  File \"c:\\Users\\Admin\\miniconda3\\envs\\gumi_env310\\lib\\site-packages\\anyio\\to_thread.py\", line 56, in run_sync\n",
      "    return await get_async_backend().run_sync_in_worker_thread(\n",
      "  File \"c:\\Users\\Admin\\miniconda3\\envs\\gumi_env310\\lib\\site-packages\\anyio\\_backends\\_asyncio.py\", line 2177, in run_sync_in_worker_thread\n",
      "    return await future\n",
      "  File \"c:\\Users\\Admin\\miniconda3\\envs\\gumi_env310\\lib\\site-packages\\anyio\\_backends\\_asyncio.py\", line 859, in run\n",
      "    result = context.run(func, *args)\n",
      "  File \"c:\\Users\\Admin\\miniconda3\\envs\\gumi_env310\\lib\\site-packages\\gradio\\utils.py\", line 826, in wrapper\n",
      "    response = f(*args, **kwargs)\n",
      "  File \"C:\\Users\\Admin\\AppData\\Local\\Temp\\ipykernel_7204\\4026369518.py\", line 7, in chatbot_send_message\n",
      "    responses.append[None,system_message]\n",
      "TypeError: 'builtin_function_or_method' object is not subscriptable\n"
     ]
    },
    {
     "name": "stdout",
     "output_type": "stream",
     "text": [
      "Keyboard interruption in main thread... closing server.\n"
     ]
    },
    {
     "data": {
      "text/plain": []
     },
     "execution_count": 34,
     "metadata": {},
     "output_type": "execute_result"
    }
   ],
   "source": [
    "import gradio as gr\n",
    "\n",
    "# 텍스트와 음성 파일을 처리하는 함수\n",
    "def chatbot_send_message(message):\n",
    "    responses = []\n",
    "    system_message = \"audio_file:\"\n",
    "    responses.append[None,system_message]\n",
    "    responses.append([message,None])\n",
    "    # 특정 경로에 있는 음성 파일 읽기\n",
    "    specific_audio_path = \"mp3_make/output.wav\"  # 여기에 원하는 파일 경로를 입력하세요.\n",
    "    if specific_audio_path:\n",
    "        # 특정 경로의 음성 파일을 Gradio Audio 컴포넌트로 출력\n",
    "        audio_component = gr.Audio(specific_audio_path)  # 특정 경로에 있는 파일을 읽어들임\n",
    "\n",
    "        responses.append([None, audio_component])\n",
    "    print(responses)\n",
    "    # 채팅 메시지와 입력창을 초기화하여 반환\n",
    "    return responses, \"\"\n",
    "\n",
    "with gr.Blocks() as app:\n",
    "    with gr.Tab(\"음성 인식봇\"):\n",
    "        with gr.Column():\n",
    "            gr.Markdown(\n",
    "                value=\"\"\"\n",
    "<center><h1> 음성 인식 봇 </h1></center>\n",
    "<center> AI 인공지능 봇입니다. 음성으로 묻거나 문서 요약, 일정 관리 등을 할 수 있습니다.</center>\n",
    "\"\"\"\n",
    "            )\n",
    "            cb_chatbot = gr.Chatbot(\n",
    "                value=[[None, \"안녕하세요 AI 챗봇입니다. 무엇이든 질문하세요\"]],\n",
    "                label=\"구미챗봇\",\n",
    "            )\n",
    "        with gr.Row():\n",
    "            cb_textbox = gr.Textbox(\n",
    "                lines=3,\n",
    "                placeholder=\"입력창입니다.\",\n",
    "                container=False,\n",
    "                scale=5\n",
    "            ) # 채팅 입력\n",
    "\n",
    "            audio_input = gr.Audio(\n",
    "                sources=\"microphone\",\n",
    "                type=\"filepath\",\n",
    "                label=\"음성을 입력해주세요\",\n",
    "                scale=2\n",
    "            ) # 음성 입력\n",
    "\n",
    "            cb_send_btn = gr.Button(\n",
    "                value=\"보내기\",\n",
    "                visible=\"primary\",\n",
    "                scale=1\n",
    "            ) # 실행 버튼\n",
    "            \n",
    "            file_upload = gr.File(\n",
    "                label=\"txt 파일을 업로드해주세요\",\n",
    "                type=\"filepath\"\n",
    "            ) # 파일 업로드\n",
    "            \n",
    "        with gr.Row():\n",
    "            gr.Button(\n",
    "                value=\"되돌리기\"\n",
    "            )\n",
    "            gr.Button(\n",
    "                value=\"초기화\"\n",
    "            )\n",
    "        \n",
    "        # 텍스트 입력 처리\n",
    "        cb_send_btn.click(\n",
    "            fn=chatbot_send_message,\n",
    "            inputs=[cb_textbox],\n",
    "            outputs=[cb_chatbot, cb_textbox]\n",
    "        )\n",
    "        \n",
    "        # 파일 업로드 처리\n",
    "        file_upload.change(\n",
    "            fn=chatbot_send_message,\n",
    "            inputs=[file_upload],\n",
    "            outputs=[cb_chatbot]\n",
    "        )\n",
    "\n",
    "    with gr.Tab(\"문서 요약봇\"):\n",
    "        pass\n",
    "    with gr.Tab(\"일정 관리봇\"):\n",
    "        pass\n",
    "\n",
    "app.launch(debug=True)\n"
   ]
  },
  {
   "cell_type": "code",
   "execution_count": 35,
   "metadata": {},
   "outputs": [
    {
     "name": "stdout",
     "output_type": "stream",
     "text": [
      "Running on local URL:  http://127.0.0.1:7881\n",
      "\n",
      "To create a public link, set `share=True` in `launch()`.\n"
     ]
    },
    {
     "data": {
      "text/html": [
       "<div><iframe src=\"http://127.0.0.1:7881/\" width=\"100%\" height=\"500\" allow=\"autoplay; camera; microphone; clipboard-read; clipboard-write;\" frameborder=\"0\" allowfullscreen></iframe></div>"
      ],
      "text/plain": [
       "<IPython.core.display.HTML object>"
      ]
     },
     "metadata": {},
     "output_type": "display_data"
    },
    {
     "name": "stdout",
     "output_type": "stream",
     "text": [
      "[['ddd', None], [None, 'audio_file:'], [None, <gradio.components.audio.Audio object at 0x00000269F6D5F8E0>]]\n",
      "Keyboard interruption in main thread... closing server.\n"
     ]
    },
    {
     "data": {
      "text/plain": []
     },
     "execution_count": 35,
     "metadata": {},
     "output_type": "execute_result"
    }
   ],
   "source": [
    "import gradio as gr\n",
    "\n",
    "# 텍스트와 음성 파일을 처리하는 함수\n",
    "def chatbot_send_message(message):\n",
    "    responses = []\n",
    "    \n",
    "    # 사용자 입력 메시지 추가\n",
    "    responses.append([message, None])\n",
    "    \n",
    "    # 시스템 메시지 추가\n",
    "    system_message = \"audio_file:\"\n",
    "    responses.append([None, system_message])\n",
    "    \n",
    "    # 특정 경로에 있는 음성 파일 읽기\n",
    "    specific_audio_path = \"mp3_make/output.wav\"  # 여기에 원하는 파일 경로를 입력하세요.\n",
    "    if specific_audio_path:\n",
    "        # 특정 경로의 음성 파일을 Gradio Audio 컴포넌트로 출력\n",
    "        audio_component = gr.Audio(specific_audio_path)  # 특정 경로에 있는 파일을 읽어들임\n",
    "        responses.append([None, audio_component])\n",
    "    \n",
    "    print(responses)\n",
    "    # 채팅 메시지와 입력창을 초기화하여 반환\n",
    "    return responses, \"\"\n",
    "\n",
    "with gr.Blocks() as app:\n",
    "    with gr.Tab(\"음성 인식봇\"):\n",
    "        with gr.Column():\n",
    "            gr.Markdown(\n",
    "                value=\"\"\"\n",
    "<center><h1> 음성 인식 봇 </h1></center>\n",
    "<center> AI 인공지능 봇입니다. 음성으로 묻거나 문서 요약, 일정 관리 등을 할 수 있습니다.</center>\n",
    "\"\"\"\n",
    "            )\n",
    "            cb_chatbot = gr.Chatbot(\n",
    "                value=[[None, \"안녕하세요 AI 챗봇입니다. 무엇이든 질문하세요\"]],\n",
    "                label=\"구미챗봇\",\n",
    "            )\n",
    "        with gr.Row():\n",
    "            cb_textbox = gr.Textbox(\n",
    "                lines=3,\n",
    "                placeholder=\"입력창입니다.\",\n",
    "                container=False,\n",
    "                scale=5\n",
    "            ) # 채팅 입력\n",
    "\n",
    "            cb_send_btn = gr.Button(\n",
    "                value=\"보내기\",\n",
    "                visible=\"primary\",\n",
    "                scale=1\n",
    "            ) # 실행 버튼\n",
    "            \n",
    "            file_upload = gr.File(\n",
    "                label=\"txt 파일을 업로드해주세요\",\n",
    "                type=\"filepath\"\n",
    "            ) # 파일 업로드\n",
    "            \n",
    "        with gr.Row():\n",
    "            gr.Button(\n",
    "                value=\"되돌리기\"\n",
    "            )\n",
    "            gr.Button(\n",
    "                value=\"초기화\"\n",
    "            )\n",
    "        \n",
    "        # 텍스트 입력 처리\n",
    "        cb_send_btn.click(\n",
    "            fn=chatbot_send_message,\n",
    "            inputs=[cb_textbox],\n",
    "            outputs=[cb_chatbot, cb_textbox]\n",
    "        )\n",
    "        \n",
    "        # 파일 업로드 처리\n",
    "        file_upload.change(\n",
    "            fn=chatbot_send_message,\n",
    "            inputs=[file_upload],\n",
    "            outputs=[cb_chatbot]\n",
    "        )\n",
    "\n",
    "    with gr.Tab(\"문서 요약봇\"):\n",
    "        pass\n",
    "    with gr.Tab(\"일정 관리봇\"):\n",
    "        pass\n",
    "\n",
    "app.launch(debug=True)\n"
   ]
  },
  {
   "cell_type": "code",
   "execution_count": 36,
   "metadata": {},
   "outputs": [
    {
     "name": "stdout",
     "output_type": "stream",
     "text": [
      "Running on local URL:  http://127.0.0.1:7881\n",
      "\n",
      "To create a public link, set `share=True` in `launch()`.\n"
     ]
    },
    {
     "data": {
      "text/html": [
       "<div><iframe src=\"http://127.0.0.1:7881/\" width=\"100%\" height=\"500\" allow=\"autoplay; camera; microphone; clipboard-read; clipboard-write;\" frameborder=\"0\" allowfullscreen></iframe></div>"
      ],
      "text/plain": [
       "<IPython.core.display.HTML object>"
      ]
     },
     "metadata": {},
     "output_type": "display_data"
    },
    {
     "name": "stdout",
     "output_type": "stream",
     "text": [
      "[('dddd', None), (None, 'audio_file:'), (None, <gradio.components.audio.Audio object at 0x00000269F711D900>)]\n",
      "Keyboard interruption in main thread... closing server.\n"
     ]
    },
    {
     "data": {
      "text/plain": []
     },
     "execution_count": 36,
     "metadata": {},
     "output_type": "execute_result"
    }
   ],
   "source": [
    "import gradio as gr\n",
    "\n",
    "# 텍스트와 음성 파일을 처리하는 함수\n",
    "def chatbot_send_message(message):\n",
    "    responses = []\n",
    "    \n",
    "    # 사용자 입력 메시지 추가 (튜플 형태)\n",
    "    responses.append((message, None))\n",
    "    \n",
    "    # 시스템 메시지 추가 (튜플 형태)\n",
    "    system_message = \"audio_file:\"\n",
    "    responses.append((None, system_message))\n",
    "    \n",
    "    # 특정 경로에 있는 음성 파일 읽기\n",
    "    specific_audio_path = \"mp3_make/output.wav\"  # 여기에 원하는 파일 경로를 입력하세요.\n",
    "    if specific_audio_path:\n",
    "        # 특정 경로의 음성 파일을 Gradio Audio 컴포넌트로 출력 (튜플 형태)\n",
    "        audio_component = gr.Audio(specific_audio_path)  # 특정 경로에 있는 파일을 읽어들임\n",
    "        responses.append((None, audio_component))\n",
    "    \n",
    "    print(responses)\n",
    "    # 채팅 메시지와 입력창을 초기화하여 반환 (튜플 형태)\n",
    "    return responses, \"\"\n",
    "\n",
    "with gr.Blocks() as app:\n",
    "    with gr.Tab(\"음성 인식봇\"):\n",
    "        with gr.Column():\n",
    "            gr.Markdown(\n",
    "                \"\"\"\n",
    "<center><h1> 음성 인식 봇 </h1></center>\n",
    "<center> AI 인공지능 봇입니다. 음성으로 묻거나 문서 요약, 일정 관리 등을 할 수 있습니다.</center>\n",
    "\"\"\"\n",
    "            )\n",
    "            cb_chatbot = gr.Chatbot(\n",
    "                value=[(None, \"안녕하세요 AI 챗봇입니다. 무엇이든 질문하세요\")],\n",
    "                label=\"구미챗봇\",\n",
    "            )\n",
    "        with gr.Row():\n",
    "            cb_textbox = gr.Textbox(\n",
    "                lines=3,\n",
    "                placeholder=\"입력창입니다.\",\n",
    "                container=False,\n",
    "                scale=5\n",
    "            )  # 채팅 입력\n",
    "\n",
    "            cb_send_btn = gr.Button(\n",
    "                value=\"보내기\",\n",
    "                visible=\"primary\",\n",
    "                scale=1\n",
    "            )  # 실행 버튼\n",
    "            \n",
    "            file_upload = gr.File(\n",
    "                label=\"txt 파일을 업로드해주세요\",\n",
    "                type=\"filepath\"\n",
    "            )  # 파일 업로드\n",
    "            \n",
    "        with gr.Row():\n",
    "            gr.Button(\n",
    "                value=\"되돌리기\"\n",
    "            )\n",
    "            gr.Button(\n",
    "                value=\"초기화\"\n",
    "            )\n",
    "        \n",
    "        # 텍스트 입력 처리\n",
    "        cb_send_btn.click(\n",
    "            fn=chatbot_send_message,\n",
    "            inputs=[cb_textbox],\n",
    "            outputs=[cb_chatbot, cb_textbox]\n",
    "        )\n",
    "        \n",
    "        # 파일 업로드 처리\n",
    "        file_upload.change(\n",
    "            fn=chatbot_send_message,\n",
    "            inputs=[file_upload],\n",
    "            outputs=[cb_chatbot]\n",
    "        )\n",
    "\n",
    "    with gr.Tab(\"문서 요약봇\"):\n",
    "        pass\n",
    "    with gr.Tab(\"일정 관리봇\"):\n",
    "        pass\n",
    "\n",
    "app.launch(debug=True)\n"
   ]
  }
 ],
 "metadata": {
  "kernelspec": {
   "display_name": "gumi_env310",
   "language": "python",
   "name": "python3"
  },
  "language_info": {
   "codemirror_mode": {
    "name": "ipython",
    "version": 3
   },
   "file_extension": ".py",
   "mimetype": "text/x-python",
   "name": "python",
   "nbconvert_exporter": "python",
   "pygments_lexer": "ipython3",
   "version": "3.10.14"
  }
 },
 "nbformat": 4,
 "nbformat_minor": 2
}
