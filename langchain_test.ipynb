{
 "cells": [
  {
   "cell_type": "markdown",
   "metadata": {},
   "source": [
    "### LLM을 이용하여 책읽기를 구현하기 위한 파일"
   ]
  },
  {
   "cell_type": "markdown",
   "metadata": {},
   "source": [
    "### llm 목표 \n",
    "1. txt(책 내용) 파일을 챗봇에게 전달하기\n",
    "2. 등장인물 성격 생성 테스트\n",
    "3. \" \" 안 팍 구분하기 테스트"
   ]
  },
  {
   "cell_type": "code",
   "execution_count": null,
   "metadata": {},
   "outputs": [],
   "source": []
  }
 ],
 "metadata": {
  "language_info": {
   "name": "python"
  }
 },
 "nbformat": 4,
 "nbformat_minor": 2
}
