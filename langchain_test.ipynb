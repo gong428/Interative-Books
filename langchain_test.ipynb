{
 "cells": [
  {
   "cell_type": "markdown",
   "metadata": {},
   "source": [
    "### LLM을 이용하여 책읽기를 구현하기 위한 파일"
   ]
  },
  {
   "cell_type": "markdown",
   "metadata": {},
   "source": [
    "### llm 목표 \n",
    "1. txt(책 내용) 파일을 챗봇에게 전달하기\n",
    "2. 등장인물 성격 생성 테스트\n",
    "3. \" \" 안 팍 구분하기 테스트"
   ]
  },
  {
   "cell_type": "markdown",
   "metadata": {},
   "source": [
    "### 목표1 : txt(책 내용) 파일을 챗봇에게 전달하기"
   ]
  },
  {
   "cell_type": "code",
   "execution_count": 39,
   "metadata": {},
   "outputs": [],
   "source": [
    "# 모델 불러오기 (llama 3.1)\n",
    "from langchain.chat_models import ChatOllama\n",
    "\n",
    "model = ChatOllama(model= \"llama3.1:latest\")"
   ]
  },
  {
   "cell_type": "markdown",
   "metadata": {},
   "source": [
    "### 외국 소설 등장인물 명은 영어로 해야 잘 한다."
   ]
  },
  {
   "cell_type": "code",
   "execution_count": 7,
   "metadata": {},
   "outputs": [
    {
     "name": "stdout",
     "output_type": "stream",
     "text": [
      "content=\"장발장은 1990년대 한국의 유명한 가수이다. 장발장은 본명은 황정희이며, 1973년생으로, '장발장'이라는 nghệ danh을 사용했다.\\n\\n장발장은 1995년에 데뷔해, 이때는 '다음날이오나'라는 노래로 인지도를 얻었는데, 이노래가 대중의 마음을 사로잡은 것만으로는 충분치 않다. 당시 장발장에게 있어선 가장 큰 관심사는 장발장이 3대가 전하는 전통악사인 '임진묵고시'를 연주한 것이었다.\\n\\n이전부터는 이 노래가 가락과 멜로디 모두 한국의 전통음악의 색다른 맛을 물씬 풍기는 가곡이었지만, 장발장이 부르는 그 노래가 한국 전통음악에서 나온다는 것은 당시에는 모를 수 있었다. 그러나 '장발장이 임진묵고시를 불러'는 사실이 보도되자, 의외로 가요계 인사들은 크게 반응을 보이지 않았다.\\n\\n장발장은 1995년 7월 첫 싱글을 발매했는데, 이 앨범에는 단 한 곡인 '다음날이오나'만 실려 있었다. '다음날이오나'라는 노래는 장발장이 불러낸 임진묵고시의 가사를 정해 가지고 노래로 만들었던 것이다.\\n\\n이 앨범은 총 1만3천8백만장이나 팔렸는데, 이는 당시 한국인들이 장발장을 알고있는 그 당시 가요 시장에서의 기록적인 판매량이었다. 장발장은 이때 '다음날이오나'를 불러서 대중적 인지도를 얻었고, 나중에 다른 노래도 선보면서 가수로서 완성되는데,\\n\\n그것은 '장발장이 임진묵고시를 불러'라는 일관된 전통음악을 자신의 목소리로 다시 만들어서, 한류에 이르기 전에 한국의 전통음악을 세계인들에게 들려주는 역할도 함으로써 가능했다. 장발장은 2012년 11월 26일 서울 영등포구의 한 병원에서 가수와 작사가로 일한 뒤, 3년간 활동중지 중이던 자신의 건강 악화로 인해 사망하였다.\" response_metadata={'model': 'llama3.1:latest', 'created_at': '2024-08-12T12:18:28.7347227Z', 'message': {'role': 'assistant', 'content': ''}, 'done_reason': 'stop', 'done': True, 'total_duration': 14435118800, 'load_duration': 34984000, 'prompt_eval_count': 16, 'prompt_eval_duration': 271025000, 'eval_count': 521, 'eval_duration': 14127107000} id='run-d82844b7-43f6-4bd2-aaff-9b03d8dfeb59-0'\n"
     ]
    }
   ],
   "source": [
    "# 테스트용 문답 kr\n",
    "question = \"장발장이 누구지?\"\n",
    "answer = model.invoke(question)\n",
    "print(answer)"
   ]
  },
  {
   "cell_type": "code",
   "execution_count": 8,
   "metadata": {},
   "outputs": [
    {
     "name": "stdout",
     "output_type": "stream",
     "text": [
      "content='레 미제라블의 주인공입니다.' response_metadata={'model': 'llama3.1:latest', 'created_at': '2024-08-12T12:22:55.0219797Z', 'message': {'role': 'assistant', 'content': ''}, 'done_reason': 'stop', 'done': True, 'total_duration': 736743700, 'load_duration': 37802100, 'prompt_eval_count': 18, 'prompt_eval_duration': 312582000, 'eval_count': 12, 'eval_duration': 384863000} id='run-5de36648-2268-477d-b7a2-17c8fbb33543-0'\n"
     ]
    }
   ],
   "source": [
    "# 테스트용 문답 en\n",
    "question = \"Jean Valjean이 누구지?\"\n",
    "answer = model.invoke(question)\n",
    "print(answer)"
   ]
  },
  {
   "cell_type": "markdown",
   "metadata": {},
   "source": [
    "### p : 한국 소설 인물은 잘 모른다"
   ]
  },
  {
   "cell_type": "code",
   "execution_count": 9,
   "metadata": {},
   "outputs": [
    {
     "name": "stdout",
     "output_type": "stream",
     "text": [
      "content='구대건(1001∼1018)은 전해지는 기록으로 가장 알려진 3세의 왕이다. 3세는 신라 말기의 왕국을 세우고 고구려, 백제와 함께 삼국시대를 이끌었다.' response_metadata={'model': 'llama3.1:latest', 'created_at': '2024-08-12T12:24:24.5400552Z', 'message': {'role': 'assistant', 'content': ''}, 'done_reason': 'stop', 'done': True, 'total_duration': 1850938500, 'load_duration': 33773000, 'prompt_eval_count': 17, 'prompt_eval_duration': 313470000, 'eval_count': 58, 'eval_duration': 1501772000} id='run-3605b551-d273-49a8-b03e-c4b6d265048a-0'\n"
     ]
    }
   ],
   "source": [
    "# 테스트용 문답 kr\n",
    "question = \"김첨지가 누구지?\"\n",
    "answer = model.invoke(question)\n",
    "print(answer)"
   ]
  },
  {
   "cell_type": "code",
   "execution_count": 10,
   "metadata": {},
   "outputs": [
    {
     "name": "stdout",
     "output_type": "stream",
     "text": [
      "content='운수좋은날에 나온 대장 김첨지는 1950년 6월 25일을 전후하여 미군과 한국군이 벌인 전쟁터였던 강문리 일대의 2차 방어전에서 전선의 주된 작전을 이끌어 난 장교입니다.' response_metadata={'model': 'llama3.1:latest', 'created_at': '2024-08-12T12:24:58.11618Z', 'message': {'role': 'assistant', 'content': ''}, 'done_reason': 'stop', 'done': True, 'total_duration': 2233833500, 'load_duration': 32371700, 'prompt_eval_count': 31, 'prompt_eval_duration': 311949000, 'eval_count': 70, 'eval_duration': 1887747000} id='run-14b1d8d4-63d5-4d84-8d11-c74f429bcbd8-0'\n"
     ]
    }
   ],
   "source": [
    "# 테스트용 문답 kr\n",
    "question = \"현진건의 소설 운수 좋은날의 등장인물 김첨지가 누구지?\"\n",
    "answer = model.invoke(question)\n",
    "print(answer)"
   ]
  },
  {
   "cell_type": "markdown",
   "metadata": {},
   "source": [
    "### 일반적인 프롬프트와 모델을 체인한걸로는 성능이 좋지 못하다.\n"
   ]
  },
  {
   "cell_type": "code",
   "execution_count": 40,
   "metadata": {},
   "outputs": [],
   "source": [
    "from langchain.prompts import PromptTemplate\n",
    "template = \"\"\"책에 인물에 대해 알려달라는 요청은 등장인물의 personality,age등을 포함해서 설명해줘\n",
    "            질문: {text}\n",
    "\"\"\"\n",
    "prompt= PromptTemplate.from_template(template)\n",
    "\n",
    "chain = prompt|model"
   ]
  },
  {
   "cell_type": "code",
   "execution_count": 41,
   "metadata": {},
   "outputs": [
    {
     "name": "stdout",
     "output_type": "stream",
     "text": [
      "주인공은 쟝 발장(Jean Valjean)입니다. 그는 형무소에서 교도관으로부터 도망한 이후, 신부로 삶을 시작하고 사회로부터 은폐하는 생존 방법을 택하게 됩니다."
     ]
    }
   ],
   "source": [
    "question =  {\"text\":\"Les Misérables 책의 주인공은 누구야?\"}\n",
    "# 실시간 출력 코드\n",
    "stream = chain.stream(question)\n",
    "for chunk in stream:\n",
    "    print(chunk.content, end=\"\")"
   ]
  },
  {
   "cell_type": "code",
   "execution_count": 42,
   "metadata": {},
   "outputs": [],
   "source": [
    "from langchain.prompts import PromptTemplate\n",
    "template = \"\"\"Could you tell me about the characters in the book? Please include details such as their personality, age, and any other relevant information.\n",
    "                question : {text}\n",
    "\"\"\"\n",
    "prompt= PromptTemplate.from_template(template)\n",
    "\n",
    "chain = prompt|model\n"
   ]
  },
  {
   "cell_type": "code",
   "execution_count": 43,
   "metadata": {},
   "outputs": [
    {
     "name": "stdout",
     "output_type": "stream",
     "text": [
      "The main characters in the novel \"Les Misérables\" by Victor Hugo are:\n",
      "\n",
      "1. **Jean Valjean**: The protagonist of the story, a former convict who has been pardoned and is trying to start a new life under an assumed name, \"Monsieur Madeleine\". He is kind-hearted, compassionate, and determined to redeem himself from his past mistakes.\n",
      "\t* Age: Late 40s to early 50s (exact age not specified)\n",
      "\t* Personality: Strong-willed, honest, and generous\n",
      "2. **Javert**: A police inspector who is obsessed with capturing Valjean and upholding the law. He is a strict and stern individual with a strong sense of duty.\n",
      "\t* Age: Late 30s to early 40s (exact age not specified)\n",
      "\t* Personality: Unyielding, rigid, and cold\n",
      "3. **Cosette**: The daughter of Fantine, a young woman who was exploited by the wealthy and forced into prostitution. She is kind, gentle, and beautiful.\n",
      "\t* Age: Late teens to early 20s (exact age not specified)\n",
      "\t* Personality: Sweet, innocent, and naive\n",
      "4. **Fantine**: A poor woman who loses her job as a hat-maker due to illness and poverty. She becomes a prostitute to support her daughter, Cosette.\n",
      "\t* Age: Late 30s to early 40s (exact age not specified)\n",
      "\t* Personality: Strong-willed, determined, and struggling\n",
      "5. **Éponine**: A young woman who lives with her sister, Cosette, in the Thénardier's boarding house. She is fiercely loyal to Cosette and Valjean.\n",
      "\t* Age: Late teens (exact age not specified)\n",
      "\t* Personality: Sassy, confident, and unafraid to speak her mind\n",
      "6. **Monsieur Thénardier**: A greedy and cruel innkeeper who exploits his boarders for profit.\n",
      "\t* Age: Late 30s to early 40s (exact age not specified)\n",
      "\t* Personality: Wicked, self-serving, and manipulative\n",
      "7. **Madame Thénardier**: Monsieur Thénardier's wife, a woman with no scruples or morals.\n",
      "\t* Age: Late 30s to early 40s (exact age not specified)\n",
      "\t* Personality: Cunning, vicious, and mercenary\n",
      "\n",
      "These characters drive the plot of \"Les Misérables\", navigating themes such as redemption, justice, and the struggle for human rights."
     ]
    }
   ],
   "source": [
    "\n",
    "question = {\"text\":\"Les Misérables 책의 주인공에 대해서 말해줘\"}\n",
    "# 실시간 출력 코드\n",
    "stream = chain.stream(question)\n",
    "for chunk in stream:\n",
    "    print(chunk.content, end=\"\")"
   ]
  },
  {
   "cell_type": "markdown",
   "metadata": {},
   "source": [
    "# 결과 번역\n",
    "장 발장 (Jean Valjean): 이야기의 주인공으로, 과거의 죄를 뉘우치고 새로운 삶을 살기 위해 \"마들렌 씨\"라는 가명으로 살아가고 있습니다. 그는 마음이 따뜻하고, 동정심이 많으며, 과거의 실수를 만회하려는 결심이 강한 인물입니다.\n",
    "\n",
    "- 나이: 40대 후반에서 50대 초반 (정확한 나이는 명시되지 않음)\n",
    "- 성격: 강한 의지, 정직, 관대함\n",
    "\n",
    "자베르 (Javert): 장 발장을 잡으려고 집착하는 경찰관으로, 법을 수호하는 일에 매우 엄격한 인물입니다. 그는 엄격하고, 냉정하며, 강한 의무감을 가진 사람입니다.\n",
    "\n",
    "- 나이: 30대 후반에서 40대 초반 (정확한 나이는 명시되지 않음)\n",
    "- 성격: 불굴의 의지, 융통성 없음, 냉혹함\n",
    "\n",
    "코제트 (Cosette): 판틴의 딸로, 부유층에 의해 착취당하고 매춘을 강요받았던 젊은 여성입니다. 그녀는 착하고, 온화하며, 아름다운 인물입니다.\n",
    "\n",
    "- 나이: 10대 후반에서 20대 초반 (정확한 나이는 명시되지 않음)\n",
    "- 성격: 순수, 순진, 다정함\n",
    "\n",
    "판틴 (Fantine): 병과 가난으로 인해 모자 제조업에서 해고된 가난한 여성입니다. 그녀는 딸 코제트를 부양하기 위해 매춘을 하게 됩니다.\n",
    "\n",
    "- 나이: 30대 후반에서 40대 초반 (정확한 나이는 명시되지 않음)\n",
    "- 성격: 강한 의지, 결단력, 고군분투하는 인물\n",
    "\n",
    "에포닌 (Éponine): 그녀는 테나르디에의 하숙집에서 언니인 코제트와 함께 살고 있는 젊은 여성입니다. 그녀는 코제트와 장 발장에게 매우 충성스러운 인물입니다.\n",
    "\n",
    "- 나이: 10대 후반 (정확한 나이는 명시되지 않음)\n",
    "- 성격: 당돌함, 자신감, 솔직함\n",
    "\n",
    "테나르디에 씨 (Monsieur Thénardier): 자신의 하숙인들을 착취하여 이익을 챙기는 탐욕스럽고 잔인한 주인입니다.\n",
    "\n",
    "- 나이: 30대 후반에서 40대 초반 (정확한 나이는 명시되지 않음)\n",
    "- 성격: 사악함, 이기적, 조종하는 성향\n",
    "\n",
    "테나르디에 부인 (Madame Thénardier): 테나르디에 씨의 아내로, 양심이나 도덕이 없는 여성입니다.\n",
    "\n",
    "- 나이: 30대 후반에서 40대 초반 (정확한 나이는 명시되지 않음)\n",
    "- 성격: 교활함, 잔인함, 돈만 밝힘"
   ]
  },
  {
   "cell_type": "markdown",
   "metadata": {},
   "source": []
  }
 ],
 "metadata": {
  "kernelspec": {
   "display_name": "gumi_env310",
   "language": "python",
   "name": "python3"
  },
  "language_info": {
   "codemirror_mode": {
    "name": "ipython",
    "version": 3
   },
   "file_extension": ".py",
   "mimetype": "text/x-python",
   "name": "python",
   "nbconvert_exporter": "python",
   "pygments_lexer": "ipython3",
   "version": "3.10.14"
  }
 },
 "nbformat": 4,
 "nbformat_minor": 2
}
