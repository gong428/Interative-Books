{
 "cells": [
  {
   "cell_type": "markdown",
   "metadata": {},
   "source": [
    "### LLM을 이용하여 책읽기를 구현하기 위한 파일"
   ]
  },
  {
   "cell_type": "markdown",
   "metadata": {},
   "source": [
    "### llm 목표 \n",
    "1. txt(책 내용) 파일을 챗봇에게 전달하기\n",
    "2. 등장인물 성격 생성 테스트\n",
    "3. \" \" 안 팍 구분하기 테스트"
   ]
  },
  {
   "cell_type": "markdown",
   "metadata": {},
   "source": [
    "### 목표1 : txt(책 내용) 파일을 챗봇에게 전달하기"
   ]
  },
  {
   "cell_type": "code",
   "execution_count": 5,
   "metadata": {},
   "outputs": [],
   "source": [
    "# 모델 불러오기 (llama 3.1)\n",
    "from langchain.chat_models import ChatOllama\n",
    "\n",
    "model = ChatOllama(model= \"llama3.1:latest\")"
   ]
  },
  {
   "cell_type": "markdown",
   "metadata": {},
   "source": [
    "### 외국 소설 등장인물 명은 영어로 해야 잘 한다."
   ]
  },
  {
   "cell_type": "code",
   "execution_count": 7,
   "metadata": {},
   "outputs": [
    {
     "name": "stdout",
     "output_type": "stream",
     "text": [
      "content=\"장발장은 1990년대 한국의 유명한 가수이다. 장발장은 본명은 황정희이며, 1973년생으로, '장발장'이라는 nghệ danh을 사용했다.\\n\\n장발장은 1995년에 데뷔해, 이때는 '다음날이오나'라는 노래로 인지도를 얻었는데, 이노래가 대중의 마음을 사로잡은 것만으로는 충분치 않다. 당시 장발장에게 있어선 가장 큰 관심사는 장발장이 3대가 전하는 전통악사인 '임진묵고시'를 연주한 것이었다.\\n\\n이전부터는 이 노래가 가락과 멜로디 모두 한국의 전통음악의 색다른 맛을 물씬 풍기는 가곡이었지만, 장발장이 부르는 그 노래가 한국 전통음악에서 나온다는 것은 당시에는 모를 수 있었다. 그러나 '장발장이 임진묵고시를 불러'는 사실이 보도되자, 의외로 가요계 인사들은 크게 반응을 보이지 않았다.\\n\\n장발장은 1995년 7월 첫 싱글을 발매했는데, 이 앨범에는 단 한 곡인 '다음날이오나'만 실려 있었다. '다음날이오나'라는 노래는 장발장이 불러낸 임진묵고시의 가사를 정해 가지고 노래로 만들었던 것이다.\\n\\n이 앨범은 총 1만3천8백만장이나 팔렸는데, 이는 당시 한국인들이 장발장을 알고있는 그 당시 가요 시장에서의 기록적인 판매량이었다. 장발장은 이때 '다음날이오나'를 불러서 대중적 인지도를 얻었고, 나중에 다른 노래도 선보면서 가수로서 완성되는데,\\n\\n그것은 '장발장이 임진묵고시를 불러'라는 일관된 전통음악을 자신의 목소리로 다시 만들어서, 한류에 이르기 전에 한국의 전통음악을 세계인들에게 들려주는 역할도 함으로써 가능했다. 장발장은 2012년 11월 26일 서울 영등포구의 한 병원에서 가수와 작사가로 일한 뒤, 3년간 활동중지 중이던 자신의 건강 악화로 인해 사망하였다.\" response_metadata={'model': 'llama3.1:latest', 'created_at': '2024-08-12T12:18:28.7347227Z', 'message': {'role': 'assistant', 'content': ''}, 'done_reason': 'stop', 'done': True, 'total_duration': 14435118800, 'load_duration': 34984000, 'prompt_eval_count': 16, 'prompt_eval_duration': 271025000, 'eval_count': 521, 'eval_duration': 14127107000} id='run-d82844b7-43f6-4bd2-aaff-9b03d8dfeb59-0'\n"
     ]
    }
   ],
   "source": [
    "# 테스트용 문답 kr\n",
    "question = \"장발장이 누구지?\"\n",
    "answer = model.invoke(question)\n",
    "print(answer)"
   ]
  },
  {
   "cell_type": "code",
   "execution_count": 8,
   "metadata": {},
   "outputs": [
    {
     "name": "stdout",
     "output_type": "stream",
     "text": [
      "content='레 미제라블의 주인공입니다.' response_metadata={'model': 'llama3.1:latest', 'created_at': '2024-08-12T12:22:55.0219797Z', 'message': {'role': 'assistant', 'content': ''}, 'done_reason': 'stop', 'done': True, 'total_duration': 736743700, 'load_duration': 37802100, 'prompt_eval_count': 18, 'prompt_eval_duration': 312582000, 'eval_count': 12, 'eval_duration': 384863000} id='run-5de36648-2268-477d-b7a2-17c8fbb33543-0'\n"
     ]
    }
   ],
   "source": [
    "# 테스트용 문답 en\n",
    "question = \"Jean Valjean이 누구지?\"\n",
    "answer = model.invoke(question)\n",
    "print(answer)"
   ]
  },
  {
   "cell_type": "code",
   "execution_count": null,
   "metadata": {},
   "outputs": [],
   "source": []
  }
 ],
 "metadata": {
  "kernelspec": {
   "display_name": "gumi_env310",
   "language": "python",
   "name": "python3"
  },
  "language_info": {
   "codemirror_mode": {
    "name": "ipython",
    "version": 3
   },
   "file_extension": ".py",
   "mimetype": "text/x-python",
   "name": "python",
   "nbconvert_exporter": "python",
   "pygments_lexer": "ipython3",
   "version": "3.10.14"
  }
 },
 "nbformat": 4,
 "nbformat_minor": 2
}
